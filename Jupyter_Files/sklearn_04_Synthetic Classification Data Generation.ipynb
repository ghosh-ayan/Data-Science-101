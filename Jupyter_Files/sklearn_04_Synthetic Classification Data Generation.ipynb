{
 "cells": [
  {
   "cell_type": "markdown",
   "metadata": {},
   "source": [
    "## Generate Synthetic Classification Data for evaluating Classifiers \n",
    "## (make_classifier)"
   ]
  },
  {
   "cell_type": "code",
   "execution_count": 1,
   "metadata": {},
   "outputs": [],
   "source": [
    "from sklearn.datasets import make_classification"
   ]
  },
  {
   "cell_type": "code",
   "execution_count": 4,
   "metadata": {},
   "outputs": [],
   "source": [
    "X, y = make_classification(n_samples=500,\n",
    "                           n_features=10,\n",
    "                           n_classes=4,\n",
    "                           n_informative=4,\n",
    "                           n_redundant=4,\n",
    "                           n_repeated=2\n",
    "                          )"
   ]
  },
  {
   "cell_type": "code",
   "execution_count": 5,
   "metadata": {
    "collapsed": true,
    "jupyter": {
     "outputs_hidden": true
    }
   },
   "outputs": [
    {
     "data": {
      "text/plain": [
       "array([0, 3, 2, 1, 3, 2, 0, 3, 1, 0, 2, 0, 2, 3, 0, 0, 1, 1, 1, 0, 0, 1,\n",
       "       1, 2, 1, 2, 1, 0, 2, 3, 3, 3, 3, 2, 3, 1, 2, 1, 2, 3, 2, 0, 3, 1,\n",
       "       0, 0, 0, 2, 1, 2, 3, 0, 2, 0, 2, 3, 3, 2, 0, 1, 3, 1, 1, 0, 1, 1,\n",
       "       3, 0, 0, 2, 0, 2, 3, 1, 2, 3, 2, 2, 3, 2, 2, 3, 3, 2, 2, 3, 1, 1,\n",
       "       1, 3, 1, 1, 3, 0, 0, 0, 3, 2, 1, 1, 0, 2, 3, 2, 1, 2, 1, 2, 1, 3,\n",
       "       2, 0, 3, 1, 0, 2, 1, 0, 0, 1, 3, 0, 1, 0, 0, 2, 1, 2, 1, 0, 3, 3,\n",
       "       0, 0, 3, 2, 1, 0, 3, 0, 3, 3, 1, 2, 1, 1, 2, 1, 3, 3, 0, 2, 1, 3,\n",
       "       1, 2, 0, 2, 0, 3, 3, 2, 2, 0, 2, 0, 2, 2, 2, 2, 2, 2, 3, 2, 1, 1,\n",
       "       3, 1, 0, 3, 2, 1, 2, 1, 1, 3, 2, 3, 2, 1, 3, 0, 3, 0, 3, 3, 3, 0,\n",
       "       1, 2, 2, 1, 3, 1, 0, 2, 3, 3, 2, 1, 3, 0, 2, 0, 2, 1, 1, 2, 3, 0,\n",
       "       3, 3, 3, 2, 0, 3, 0, 0, 2, 1, 2, 1, 3, 0, 1, 0, 1, 2, 2, 3, 2, 0,\n",
       "       0, 0, 2, 0, 1, 1, 3, 0, 1, 3, 0, 2, 0, 0, 1, 0, 3, 3, 2, 3, 2, 0,\n",
       "       3, 0, 2, 3, 2, 2, 2, 3, 3, 1, 0, 2, 3, 3, 0, 2, 3, 2, 3, 3, 1, 0,\n",
       "       1, 0, 2, 1, 3, 2, 3, 3, 0, 1, 0, 2, 1, 2, 1, 2, 2, 0, 2, 2, 0, 3,\n",
       "       2, 2, 0, 0, 1, 3, 2, 3, 1, 0, 1, 1, 0, 1, 1, 0, 2, 3, 3, 1, 0, 0,\n",
       "       3, 1, 3, 1, 3, 2, 0, 3, 0, 3, 3, 1, 2, 3, 1, 3, 2, 2, 0, 2, 1, 0,\n",
       "       1, 1, 0, 3, 2, 2, 1, 1, 1, 1, 0, 2, 2, 0, 1, 2, 3, 2, 1, 0, 0, 3,\n",
       "       3, 1, 2, 2, 1, 1, 0, 0, 0, 2, 0, 3, 1, 1, 0, 0, 3, 1, 3, 1, 2, 2,\n",
       "       0, 2, 0, 3, 0, 3, 1, 3, 3, 3, 0, 2, 1, 3, 1, 1, 0, 3, 3, 2, 3, 2,\n",
       "       0, 1, 1, 1, 0, 3, 0, 2, 3, 3, 0, 1, 2, 0, 1, 1, 3, 0, 3, 0, 2, 2,\n",
       "       1, 3, 1, 0, 1, 3, 3, 0, 0, 1, 2, 0, 1, 1, 1, 0, 2, 2, 1, 0, 0, 2,\n",
       "       1, 2, 2, 3, 3, 0, 3, 1, 3, 3, 3, 2, 1, 1, 1, 0, 0, 2, 0, 0, 2, 1,\n",
       "       1, 0, 1, 1, 0, 2, 3, 0, 2, 2, 0, 3, 3, 3, 1, 0])"
      ]
     },
     "execution_count": 5,
     "metadata": {},
     "output_type": "execute_result"
    }
   ],
   "source": [
    "y"
   ]
  },
  {
   "cell_type": "code",
   "execution_count": 27,
   "metadata": {},
   "outputs": [],
   "source": [
    "# Defined a function to get counts of the individual classes in the response vector.\n",
    "import numpy as np\n",
    "def get_class_count(y):\n",
    "    classes, counts = np.unique(y, return_counts=True)\n",
    "    print(dict(zip(classes,counts)))"
   ]
  },
  {
   "cell_type": "code",
   "execution_count": 28,
   "metadata": {},
   "outputs": [
    {
     "name": "stdout",
     "output_type": "stream",
     "text": [
      "{0: 124, 1: 125, 2: 126, 3: 125}\n"
     ]
    }
   ],
   "source": [
    "get_class_count(y)"
   ]
  },
  {
   "cell_type": "code",
   "execution_count": 22,
   "metadata": {},
   "outputs": [],
   "source": [
    "X1, y1 = make_classification(n_samples=500,\n",
    "                             n_features=10,\n",
    "                             n_classes=4,\n",
    "                             n_informative=4,\n",
    "                             n_redundant=4,\n",
    "                             n_repeated=2,\n",
    "                             flip_y=0.5    # high noise\n",
    "                             )"
   ]
  },
  {
   "cell_type": "code",
   "execution_count": 29,
   "metadata": {},
   "outputs": [
    {
     "name": "stdout",
     "output_type": "stream",
     "text": [
      "{0: 120, 1: 130, 2: 117, 3: 133}\n"
     ]
    }
   ],
   "source": [
    "get_class_count(y1)"
   ]
  },
  {
   "cell_type": "code",
   "execution_count": 24,
   "metadata": {},
   "outputs": [],
   "source": [
    "X2, y2 = make_classification(n_samples=500,\n",
    "                             n_features=10,\n",
    "                             n_classes=4,\n",
    "                             n_informative=4,\n",
    "                             n_redundant=4,\n",
    "                             n_repeated=2,\n",
    "                             flip_y=0.1,    # less noise\n",
    "                             class_sep=0.2 # hard to classify, as samples are closer, default is 1.0\n",
    "                             )"
   ]
  },
  {
   "cell_type": "code",
   "execution_count": 30,
   "metadata": {},
   "outputs": [
    {
     "name": "stdout",
     "output_type": "stream",
     "text": [
      "{0: 125, 1: 127, 2: 121, 3: 127}\n"
     ]
    }
   ],
   "source": [
    "get_class_count(y2)"
   ]
  },
  {
   "cell_type": "code",
   "execution_count": 33,
   "metadata": {},
   "outputs": [],
   "source": [
    "X3, y3 = make_classification(n_samples=500,\n",
    "                             n_features=10,\n",
    "                             n_classes=4,\n",
    "                             n_informative=4,\n",
    "                             n_redundant=4,\n",
    "                             n_repeated=2,\n",
    "                             flip_y=0.1,    # less noise\n",
    "                             class_sep=1.0, # separated well\n",
    "                             weights=[0.2, 0.6, 0.1, 0.1] # separate class weights\n",
    "                             )"
   ]
  },
  {
   "cell_type": "code",
   "execution_count": 34,
   "metadata": {},
   "outputs": [
    {
     "name": "stdout",
     "output_type": "stream",
     "text": [
      "{0: 106, 1: 283, 2: 59, 3: 52}\n"
     ]
    }
   ],
   "source": [
    "get_class_count(y3)"
   ]
  }
 ],
 "metadata": {
  "kernelspec": {
   "display_name": "Python 3",
   "language": "python",
   "name": "python3"
  },
  "language_info": {
   "codemirror_mode": {
    "name": "ipython",
    "version": 3
   },
   "file_extension": ".py",
   "mimetype": "text/x-python",
   "name": "python",
   "nbconvert_exporter": "python",
   "pygments_lexer": "ipython3",
   "version": "3.7.6"
  }
 },
 "nbformat": 4,
 "nbformat_minor": 4
}
