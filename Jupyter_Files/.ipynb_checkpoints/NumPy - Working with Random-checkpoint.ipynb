{
 "cells": [
  {
   "cell_type": "markdown",
   "metadata": {},
   "source": [
    "### Simple random data:-\n",
    "- randint\n",
    "- rand\n",
    "- randn\n",
    "- choice\n",
    "\n",
    "### Permutation:-\n",
    "- shuffle\n",
    "- permutation"
   ]
  },
  {
   "cell_type": "markdown",
   "metadata": {},
   "source": [
    "#### What is a Random Number?\n",
    "Random number does NOT mean a different number every time. Random means something that can not be predicted logically.\n",
    "\n",
    "Pseudo Random and True Random.\n",
    "Computers work on programs, and programs are definitive set of instructions. So it means there must be some algorithm to generate a random number as well.\n",
    "\n",
    "If there is a program to generate random number it can be predicted, thus it is not truly random.\n",
    "\n",
    "Random numbers generated through a generation algorithm are called pseudo random.\n",
    "\n",
    "Can we make truly random numbers?\n",
    "\n",
    "Yes. In order to generate a truly random number on our computers we need to get the random data from some outside source. This outside source is generally our keystrokes, mouse movements, data on network etc.\n",
    "\n",
    "We do not need truly random numbers, unless its related to security (e.g. encryption keys) or the basis of application is the randomness (e.g. Digital roulette wheels).*"
   ]
  },
  {
   "cell_type": "markdown",
   "metadata": {},
   "source": [
    "#### Numpy documentation for random, both old and new conventions\n",
    "https://numpy.org/doc/stable/reference/random/legacy.html\n",
    "\n",
    "https://numpy.org/doc/stable/reference/random/generator.html\n",
    "#### Good tutorial for Numpy with examples from random\n",
    "https://www.w3schools.com/python/numpy_random.asp"
   ]
  },
  {
   "cell_type": "markdown",
   "metadata": {},
   "source": [
    "### LEGACY RandomState functions"
   ]
  },
  {
   "cell_type": "markdown",
   "metadata": {},
   "source": [
    "### **np.random.randint()**"
   ]
  },
  {
   "cell_type": "code",
   "execution_count": 2,
   "metadata": {},
   "outputs": [
    {
     "name": "stdout",
     "output_type": "stream",
     "text": [
      "4\n",
      "-5\n",
      "-5\n",
      "-2\n",
      "-2\n",
      "-2\n",
      "-1\n",
      "1\n",
      "-2\n",
      "2\n"
     ]
    }
   ],
   "source": [
    "import numpy as np\n",
    "\n",
    "# Random integer within low to high inclusive, using np.random.randint(low[high,size,dtype])\n",
    "for _ in range(10):\n",
    "    x1 = np.random.randint(-5,5)\n",
    "    print(x1)"
   ]
  },
  {
   "cell_type": "code",
   "execution_count": 3,
   "metadata": {},
   "outputs": [
    {
     "name": "stdout",
     "output_type": "stream",
     "text": [
      "[35 31 39  1 54]\n",
      "\n",
      "\n",
      "[65 15 10 39 35]\n",
      "\n",
      "\n",
      "[58 42 74 13 70]\n",
      "\n",
      "\n",
      "[[86 60 15 20]\n",
      " [11 46 46 77]\n",
      " [89  3  0 70]]\n",
      "\n",
      "\n",
      "[[29 33 34 53]\n",
      " [ 6  1 41  2]\n",
      " [24 38 47  9]]\n",
      "\n",
      "\n",
      "[[96 59 41  8]\n",
      " [83 29 16 30]\n",
      " [ 1 10  3 49]]\n",
      "\n",
      "\n"
     ]
    }
   ],
   "source": [
    "# Creating n-D arrays of integers using np.random.randint(low[high,size,dtype])\n",
    "for _ in range(3):\n",
    "    random_int1D_array = np.random.randint(100, size = (5))\n",
    "    print(random_int1D_array)\n",
    "    print('\\n')\n",
    "for _ in range(3):\n",
    "    random_int2D_array = np.random.randint(100, size = (3,4))\n",
    "    print(random_int2D_array)\n",
    "    print('\\n')"
   ]
  },
  {
   "cell_type": "markdown",
   "metadata": {},
   "source": [
    "### **np.random.rand()**"
   ]
  },
  {
   "cell_type": "code",
   "execution_count": 4,
   "metadata": {},
   "outputs": [],
   "source": [
    "# np.random.rand([d0,d1,...,dn]), if no parameters, will generate a single float in the half open interval,\n",
    "# if d0,d1,..,dn specified, it will generate an ndarray of such floats with shape(d0,d1,..,dn)."
   ]
  },
  {
   "cell_type": "code",
   "execution_count": 5,
   "metadata": {},
   "outputs": [
    {
     "name": "stdout",
     "output_type": "stream",
     "text": [
      "0.3618251061938529\n",
      "0.847575247087761\n",
      "0.6132556752693856\n",
      "0.4661183016387126\n",
      "0.6498251481588596\n",
      "0.5054859121973986\n",
      "0.10998215223600194\n",
      "0.04524308894777129\n",
      "0.11370690754021406\n",
      "0.12782926095105718\n"
     ]
    }
   ],
   "source": [
    "for _ in range(10):\n",
    "    x3 = np.random.rand()\n",
    "    print(x3)"
   ]
  },
  {
   "cell_type": "code",
   "execution_count": 6,
   "metadata": {},
   "outputs": [
    {
     "name": "stdout",
     "output_type": "stream",
     "text": [
      "[[0.77907671 0.90445912 0.09008742 0.09901104 0.88270017 0.78520305]\n",
      " [0.07753717 0.75506546 0.88987363 0.64835353 0.6405518  0.56241611]\n",
      " [0.26831116 0.69126848 0.48455121 0.89179768 0.62667485 0.08132992]\n",
      " [0.11833989 0.74650456 0.08802225 0.08724793 0.02224356 0.96231949]\n",
      " [0.73529885 0.54773147 0.61650941 0.73525701 0.42262706 0.26408277]]\n",
      "\n",
      "\n",
      "[[0.55200434 0.39680648 0.70720393 0.75732767 0.24354948 0.11661901]\n",
      " [0.50280748 0.57408839 0.45025908 0.93234964 0.47348952 0.10453528]\n",
      " [0.91902234 0.46067467 0.9647214  0.0913211  0.95611141 0.35498425]\n",
      " [0.85864395 0.39464506 0.83763437 0.86964077 0.47870798 0.43996208]\n",
      " [0.56416194 0.04190104 0.00500986 0.93895342 0.63849967 0.79163531]]\n",
      "\n",
      "\n",
      "[[0.6018863  0.99947489 0.43333446 0.21750948 0.73319094 0.46071633]\n",
      " [0.97031009 0.53108896 0.75779614 0.31969667 0.34626341 0.25689743]\n",
      " [0.03708024 0.67412739 0.0087407  0.48417377 0.85490657 0.67440589]\n",
      " [0.72010058 0.92262747 0.27839445 0.51416353 0.48304742 0.53755446]\n",
      " [0.06558711 0.93877708 0.79951188 0.88945025 0.86962046 0.69999815]]\n",
      "\n",
      "\n"
     ]
    }
   ],
   "source": [
    "for _ in range(3):\n",
    "    x4 = np.random.rand(5,6)\n",
    "    print(x4)\n",
    "    print('\\n')"
   ]
  },
  {
   "cell_type": "markdown",
   "metadata": {},
   "source": [
    "### **np.random.randn()** "
   ]
  },
  {
   "cell_type": "code",
   "execution_count": 7,
   "metadata": {},
   "outputs": [
    {
     "name": "stdout",
     "output_type": "stream",
     "text": [
      "0.3240741069137989\n",
      "0.3517179206340476\n",
      "-0.2155211510564386\n",
      "2.036105405442813\n",
      "-0.44479872820527666\n",
      "-0.7178718332366965\n",
      "0.9556510975936305\n",
      "-0.7474721733272308\n",
      "-0.8584807740290811\n",
      "-0.010128259580902715\n"
     ]
    }
   ],
   "source": [
    "for _ in range(10):\n",
    "    a_random_standard_normal_value = np.random.randn()\n",
    "    print(a_random_standard_normal_value)"
   ]
  },
  {
   "cell_type": "code",
   "execution_count": 8,
   "metadata": {},
   "outputs": [
    {
     "name": "stdout",
     "output_type": "stream",
     "text": [
      "[[ 0.31287812 -0.21361704  0.54803775  0.3837286 ]\n",
      " [ 0.89162208  0.18169285  2.05339853 -1.50057993]\n",
      " [-0.05387982 -0.36828005  1.93057585  0.09255162]]\n",
      "\n",
      "\n",
      "[[-0.44069435  0.62152566  0.40073996  0.18340976]\n",
      " [-1.45380511  1.08922358 -0.60147016  0.67553533]\n",
      " [ 0.54017882  0.05607328 -0.92814972 -2.13360032]]\n",
      "\n",
      "\n",
      "[[ 0.13399889 -0.34835812 -0.09576704 -0.4610192 ]\n",
      " [ 0.54208756  0.71815902  1.66880398  2.55916536]\n",
      " [ 1.69574168  0.48811458  0.14238109 -0.82027395]]\n",
      "\n",
      "\n"
     ]
    }
   ],
   "source": [
    "for _ in range(3):\n",
    "    arrayof_standard_normal_values = np.random.randn(3,4)\n",
    "    print(arrayof_standard_normal_values)\n",
    "    print('\\n')"
   ]
  },
  {
   "cell_type": "markdown",
   "metadata": {},
   "source": [
    "### **np.random.choice()** "
   ]
  },
  {
   "cell_type": "code",
   "execution_count": 9,
   "metadata": {},
   "outputs": [],
   "source": [
    "# np.random.choice(a, size=None, replace=True, p=None)¶\n",
    "# Takes a 1-D ndarray. Generates a random sample (single or as per shape) from that, with or without replacement \n",
    "# (default=with), can optionally give 1-D ndarray of separte probabilities for our set of possible values."
   ]
  },
  {
   "cell_type": "code",
   "execution_count": 10,
   "metadata": {},
   "outputs": [
    {
     "name": "stdout",
     "output_type": "stream",
     "text": [
      "Single Random Choice:-\n",
      "20\n",
      "20\n",
      "40\n",
      "Single Random Choice with bias in probabilty:-\n",
      "40\n",
      "50\n",
      "40\n",
      "Array Random Choice:-\n",
      "[[ 70  80  30  20  40  60  70  10]\n",
      " [100  40  40  80  30  60  70  60]\n",
      " [ 70  90  50  70  20  70  90  10]\n",
      " [ 60  80  70  50  50  20 100  20]\n",
      " [ 60  40 100  30  70  30  10  60]]\n",
      "\n",
      "\n",
      "[[ 30  60 100  20  60  80  40  50]\n",
      " [ 70  20  90  80  60  10  20  80]\n",
      " [ 10  40 100  60  10  60  20  80]\n",
      " [100  80 100  90  60  40  10  30]\n",
      " [ 80  80  80  10  60  10  30  50]]\n",
      "\n",
      "\n",
      "[[ 30  30  60  50  40  70  70  10]\n",
      " [ 90  90  40  90  70 100  50  70]\n",
      " [ 90  90  90  80  10  10  90  90]\n",
      " [ 30  30 100  40  80  30  50  80]\n",
      " [ 80  50  50  40  70  30  30  90]]\n",
      "\n",
      "\n",
      "Array Random Choice without replacement:-\n",
      "[[ 90  10  20  30 100]\n",
      " [ 60  40  70  80  50]]\n",
      "\n",
      "\n",
      "[[ 70  10  50  20  30]\n",
      " [ 90  40 100  60  80]]\n",
      "\n",
      "\n",
      "Array Random Choice with probability:-\n",
      "[[40 40 40 40 50 40 40 40]\n",
      " [50 40 50 40 40 40 50 40]\n",
      " [40 40 40 40 40 40 40 40]\n",
      " [50 50 40 40 40 40 40 50]\n",
      " [40 40 40 40 40 40 40 50]]\n",
      "\n",
      "\n",
      "[[50 40 40 40 50 50 40 50]\n",
      " [40 40 40 40 50 40 40 40]\n",
      " [40 40 40 40 40 40 50 40]\n",
      " [50 40 40 40 40 50 40 50]\n",
      " [40 50 40 40 40 40 40 50]]\n",
      "\n",
      "\n"
     ]
    }
   ],
   "source": [
    "possible_values = np.arange(10,101,10)\n",
    "#probability = np.array([0.1,0.1,0.1,0.1,0.1,0.1,0.1,0.1,0.1,0.1])\n",
    "probability = np.array([0.0,0.0,0.0,0.8,0.2,0.0,0.0,0.0,0.0,0.0])\n",
    "\n",
    "print(\"Single Random Choice:-\")\n",
    "for _ in range(3):\n",
    "    single_random_choice = np.random.choice(possible_values)\n",
    "    print(single_random_choice)\n",
    "\n",
    "#This one demonstrates how a keyword parameter has to be mentioned, which comes in the way of another keyword parameter\n",
    "print(\"Single Random Choice with bias in probabilty:-\")\n",
    "for _ in range(3):\n",
    "    single_random_choice = np.random.choice(possible_values,size=None,replace=True,p=probability)\n",
    "    print(single_random_choice)\n",
    "    \n",
    "print(\"Array Random Choice:-\")\n",
    "for _ in range(3):   \n",
    "    array_random_choice = np.random.choice(possible_values,(5,8))\n",
    "    print(array_random_choice)\n",
    "    print('\\n')\n",
    "print(\"Array Random Choice without replacement:-\")\n",
    "# For without replacement, care needs to be taken, that output array size should not exceed the number of possible values\n",
    "for _ in range(2):   \n",
    "    array_random_choice_without_replacement = np.random.choice(possible_values,(2,5),replace=False)\n",
    "    print(array_random_choice_without_replacement)\n",
    "    print('\\n')\n",
    "print(\"Array Random Choice with probability:-\")\n",
    "for _ in range(2):   \n",
    "    array_random_choice_with_probability = np.random.choice(possible_values,(5,8),replace=True,p=probability)\n",
    "    print(array_random_choice_with_probability)\n",
    "    print('\\n')"
   ]
  },
  {
   "cell_type": "code",
   "execution_count": 11,
   "metadata": {},
   "outputs": [
    {
     "name": "stdout",
     "output_type": "stream",
     "text": [
      "[['B3' 'A2' 'C1']\n",
      " ['C3' 'B3' 'C3']\n",
      " ['B2' 'C1' 'B3']]\n"
     ]
    }
   ],
   "source": [
    "# choice function works with non-numeric data as well, since the list of possible values is taken as input from user \n",
    "char_array = np.array(['A1','A2','A3','B1','B2','B3','C1','C2','C3'])\n",
    "choice_array = np.random.choice(char_array,(3,3))\n",
    "print(choice_array)"
   ]
  },
  {
   "cell_type": "markdown",
   "metadata": {},
   "source": [
    "Key inference is: When x is an array, both numpy.random.permutation(x) and numpy.random.shuffle(x) can permute the elements in x randomly along the first axis. numpy.random.permutation(x) actually returns a new variable and the original data is not changed. Where as numpy.random.shuffle(x) has changed original data and does not return a new variable.\n",
    "Also, permutation can take an int as a parameter and treats it as np.arange(x). Shuffle only takes array_like(array or list) as parameter."
   ]
  },
  {
   "cell_type": "markdown",
   "metadata": {},
   "source": [
    "### **np.random.shuffle()** \n",
    "np.random.shuffle(x)\n",
    "\n",
    "Parameters:-\n",
    "x - array_like (The array or list to be shuffled)\n",
    "\n",
    "Returns:-\n",
    "None"
   ]
  },
  {
   "cell_type": "markdown",
   "metadata": {},
   "source": [
    "### **np.random.permutation()** \n",
    "Parameters:-\n",
    "xint or array_like\n",
    "If x is an integer, randomly permute np.arange(x). If x is an array, make a copy and shuffle the elements randomly.\n",
    "\n",
    "Returns:-\n",
    "ndarray (Permuted sequence or array range)"
   ]
  },
  {
   "cell_type": "markdown",
   "metadata": {},
   "source": [
    "#### Difference between shuffle() and permuation()\n",
    "- When x is an array, both numpy.random.permutation(x) and numpy.random.shuffle(x) can permute the elements in x randomly along the first axis. numpy.random.permutation(x) actually returns a new variable and the original data is not changed. Where as numpy.random.shuffle(x) has changed original data and does not return a new variable.\n",
    "- Also, permutation can take an int as a parameter and treats it as np.arange(x). Shuffle only takes array_like(array or list) as parameter."
   ]
  },
  {
   "cell_type": "code",
   "execution_count": 12,
   "metadata": {},
   "outputs": [
    {
     "name": "stdout",
     "output_type": "stream",
     "text": [
      "Shuffling happens in place:-\n",
      "Base Array: [4 0 9 3 2 8 7 1 5 6]\n",
      "\n",
      "\n",
      "Base Array: [4 7 2 6 0 5 8 9 3 1]\n",
      "\n",
      "\n",
      "Base Array: [0 5 8 7 4 9 2 3 1 6]\n",
      "\n",
      "\n",
      "Permutation returns a copy of the permuted array:-\n",
      "Permuted Array: [0 8 2 7 4 3 5 6 9 1]\n",
      "Base Array: [0 1 2 3 4 5 6 7 8 9]\n",
      "\n",
      "\n",
      "Permuted Array: [7 0 1 3 4 2 8 5 9 6]\n",
      "Base Array: [0 1 2 3 4 5 6 7 8 9]\n",
      "\n",
      "\n",
      "Permuted Array: [0 5 4 3 6 1 9 8 7 2]\n",
      "Base Array: [0 1 2 3 4 5 6 7 8 9]\n",
      "\n",
      "\n"
     ]
    }
   ],
   "source": [
    "base_array_shuffle = np.arange(10)\n",
    "print(\"Shuffling happens in place:-\")\n",
    "for _ in range(3):\n",
    "    np.random.shuffle(base_array_shuffle)\n",
    "    print (\"Base Array: {}\".format(base_array_shuffle))\n",
    "    print('\\n')\n",
    "\n",
    "print(\"Permutation returns a copy of the permuted array:-\")\n",
    "\n",
    "base_array_permute = np.arange(10)\n",
    "for _ in range(3):\n",
    "    permute_array = np.random.permutation(base_array_permute)\n",
    "    print (\"Permuted Array: {}\".format(permute_array))\n",
    "    print (\"Base Array: {}\".format(base_array_permute))\n",
    "#    print(permute_array)\n",
    "    print('\\n')"
   ]
  },
  {
   "cell_type": "code",
   "execution_count": 13,
   "metadata": {},
   "outputs": [
    {
     "name": "stdout",
     "output_type": "stream",
     "text": [
      "Base Array Shuffle:\n",
      "[[[ 0  1  2]\n",
      "  [ 3  4  5]\n",
      "  [ 6  7  8]]\n",
      "\n",
      " [[ 9 10 11]\n",
      "  [12 13 14]\n",
      "  [15 16 17]]\n",
      "\n",
      " [[18 19 20]\n",
      "  [21 22 23]\n",
      "  [24 25 26]]\n",
      "\n",
      " [[27 28 29]\n",
      "  [30 31 32]\n",
      "  [33 34 35]]]\n",
      "Shuffling happens only along the first axis:-\n",
      "Base Array After shuffle: \n",
      "[[[27 28 29]\n",
      "  [30 31 32]\n",
      "  [33 34 35]]\n",
      "\n",
      " [[ 0  1  2]\n",
      "  [ 3  4  5]\n",
      "  [ 6  7  8]]\n",
      "\n",
      " [[18 19 20]\n",
      "  [21 22 23]\n",
      "  [24 25 26]]\n",
      "\n",
      " [[ 9 10 11]\n",
      "  [12 13 14]\n",
      "  [15 16 17]]]\n",
      "Base Array Permutation: \n",
      "[[[ 0  1  2]\n",
      "  [ 3  4  5]\n",
      "  [ 6  7  8]]\n",
      "\n",
      " [[ 9 10 11]\n",
      "  [12 13 14]\n",
      "  [15 16 17]]\n",
      "\n",
      " [[18 19 20]\n",
      "  [21 22 23]\n",
      "  [24 25 26]]\n",
      "\n",
      " [[27 28 29]\n",
      "  [30 31 32]\n",
      "  [33 34 35]]]\n",
      "Permutation also happens only along the first axis:-\n",
      "Permuted Array : \n",
      "[[[ 0  1  2]\n",
      "  [ 3  4  5]\n",
      "  [ 6  7  8]]\n",
      "\n",
      " [[ 9 10 11]\n",
      "  [12 13 14]\n",
      "  [15 16 17]]\n",
      "\n",
      " [[27 28 29]\n",
      "  [30 31 32]\n",
      "  [33 34 35]]\n",
      "\n",
      " [[18 19 20]\n",
      "  [21 22 23]\n",
      "  [24 25 26]]]\n"
     ]
    }
   ],
   "source": [
    "base_array_1= np.arange(36).reshape(4,3,3)\n",
    "print(\"Base Array Shuffle:\")\n",
    "print(base_array_1)\n",
    "print(\"Shuffling happens only along the first axis:-\")\n",
    "np.random.shuffle(base_array_1)\n",
    "print(\"Base Array After shuffle: \")\n",
    "print(base_array_1)\n",
    "\n",
    "base_array_2= np.arange(36).reshape(4,3,3)\n",
    "print(\"Base Array Permutation: \")\n",
    "print(base_array_2)\n",
    "print(\"Permutation also happens only along the first axis:-\")\n",
    "permute_array_2 = np.random.permutation(base_array_2)\n",
    "print(\"Permuted Array : \")\n",
    "print(permute_array_2)\n",
    "\n"
   ]
  },
  {
   "cell_type": "markdown",
   "metadata": {},
   "source": [
    "### GENERATOR functions and usage"
   ]
  },
  {
   "cell_type": "code",
   "execution_count": 14,
   "metadata": {},
   "outputs": [
    {
     "data": {
      "text/plain": [
       "array([[0, 4, 1, 0],\n",
       "       [4, 4, 3, 0]], dtype=int64)"
      ]
     },
     "execution_count": 14,
     "metadata": {},
     "output_type": "execute_result"
    }
   ],
   "source": [
    "rng = np.random.default_rng()\n",
    "rng.integers(5, size=(2, 4))"
   ]
  }
 ],
 "metadata": {
  "kernelspec": {
   "display_name": "Python 3",
   "language": "python",
   "name": "python3"
  },
  "language_info": {
   "codemirror_mode": {
    "name": "ipython",
    "version": 3
   },
   "file_extension": ".py",
   "mimetype": "text/x-python",
   "name": "python",
   "nbconvert_exporter": "python",
   "pygments_lexer": "ipython3",
   "version": "3.7.6"
  }
 },
 "nbformat": 4,
 "nbformat_minor": 4
}
