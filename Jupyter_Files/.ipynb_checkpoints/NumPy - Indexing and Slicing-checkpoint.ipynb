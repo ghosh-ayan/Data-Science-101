{
 "cells": [
  {
   "cell_type": "markdown",
   "metadata": {},
   "source": [
    "**Indexing** is used to obtain individual elements from an array, but it can also be used to obtain entire rows, columns or planes from multi-dimensional arrays.\n",
    "\n",
    "**Slicing** You can slice a numpy array is a similar way to slicing a list - except you can do it in more than one dimension.\n",
    "\n",
    "As with indexing, the array you get back when you index or slice a numpy array is a view of the original array. It is the same data, just accessed in a different order. This is different to lists, where a slice returns a completely new list."
   ]
  },
  {
   "cell_type": "code",
   "execution_count": 2,
   "metadata": {},
   "outputs": [
    {
     "name": "stdout",
     "output_type": "stream",
     "text": [
      "[5 3 0 5 2]\n",
      "2\n"
     ]
    }
   ],
   "source": [
    "import numpy as np\n",
    "arr_1D = np.random.randint(10,size=(5))\n",
    "print(arr_1D)\n",
    "print(arr_1D[4])"
   ]
  },
  {
   "cell_type": "code",
   "execution_count": 3,
   "metadata": {},
   "outputs": [
    {
     "name": "stdout",
     "output_type": "stream",
     "text": [
      "[[0 9 7 0]\n",
      " [2 2 7 4]\n",
      " [3 8 1 6]\n",
      " [1 9 5 8]\n",
      " [3 3 1 4]]\n",
      "\n",
      "\n",
      "5\n",
      "\n",
      "\n",
      "[7 7 1 5 1]\n",
      "\n",
      "\n",
      "[3 8 1 6]\n"
     ]
    }
   ],
   "source": [
    "arr_2D = np.random.randint(10,size=(5,4))\n",
    "print(arr_2D)\n",
    "print(\"\\n\")\n",
    "# Getting single element by indexing\n",
    "print(arr_2D[3,2])\n",
    "# Getting a column by slicing/indexing\n",
    "print(\"\\n\")\n",
    "print(arr_2D[:,2])\n",
    "# Getting a row by slicing/indexing\n",
    "print(\"\\n\")\n",
    "print(arr_2D[2,:])"
   ]
  },
  {
   "cell_type": "code",
   "execution_count": 4,
   "metadata": {},
   "outputs": [
    {
     "name": "stdout",
     "output_type": "stream",
     "text": [
      "[[[3 7 3 0]\n",
      "  [6 6 4 2]\n",
      "  [1 7 6 8]]\n",
      "\n",
      " [[7 8 6 7]\n",
      "  [3 4 0 7]\n",
      "  [7 2 4 2]]]\n",
      "\n",
      "\n",
      "8\n"
     ]
    }
   ],
   "source": [
    "arr3D = np.random.randint(10,size=(2,3,4))\n",
    "print(arr3D)\n",
    "\n",
    "# Selecting a single component by indexing. Selecing 2nd plane, 1st row, 2nd column\n",
    "print(\"\\n\")\n",
    "print(arr3D[1,0,1])"
   ]
  },
  {
   "cell_type": "code",
   "execution_count": 5,
   "metadata": {},
   "outputs": [
    {
     "name": "stdout",
     "output_type": "stream",
     "text": [
      "\n",
      "\n",
      "[6 6 4 2]\n"
     ]
    }
   ],
   "source": [
    "# Selecting a single row - First plane, 2nd row\n",
    "print(\"\\n\")\n",
    "print(arr3D[0,1,:])"
   ]
  },
  {
   "cell_type": "code",
   "execution_count": 6,
   "metadata": {},
   "outputs": [
    {
     "name": "stdout",
     "output_type": "stream",
     "text": [
      "\n",
      "\n",
      "[6 0 4]\n"
     ]
    }
   ],
   "source": [
    "# Selecting a single column - 2nd plane, 3rd column\n",
    "print(\"\\n\")\n",
    "print(arr3D[1,:,2])"
   ]
  },
  {
   "cell_type": "code",
   "execution_count": 7,
   "metadata": {},
   "outputs": [
    {
     "name": "stdout",
     "output_type": "stream",
     "text": [
      "\n",
      "\n",
      "[[6 6 4 2]\n",
      " [3 4 0 7]]\n"
     ]
    }
   ],
   "source": [
    "# Selecing the middle horizontal plane\n",
    "print(\"\\n\")\n",
    "print(arr3D[:,1,:])"
   ]
  },
  {
   "cell_type": "code",
   "execution_count": 8,
   "metadata": {},
   "outputs": [
    {
     "data": {
      "text/plain": [
       "array([[3, 4, 6],\n",
       "       [6, 0, 4]])"
      ]
     },
     "execution_count": 8,
     "metadata": {},
     "output_type": "execute_result"
    }
   ],
   "source": [
    "# Selecting the third vertical plane\n",
    "arr3D[:,:,2]"
   ]
  },
  {
   "cell_type": "code",
   "execution_count": 9,
   "metadata": {},
   "outputs": [
    {
     "data": {
      "text/plain": [
       "array([[6, 7],\n",
       "       [4, 2]])"
      ]
     },
     "execution_count": 9,
     "metadata": {},
     "output_type": "execute_result"
    }
   ],
   "source": [
    "# Partial slice - 2nd vertical plane, middle and bottom row\n",
    "arr3D[:,1:,1]"
   ]
  },
  {
   "cell_type": "code",
   "execution_count": 10,
   "metadata": {},
   "outputs": [
    {
     "data": {
      "text/plain": [
       "array([[0],\n",
       "       [7]])"
      ]
     },
     "execution_count": 10,
     "metadata": {},
     "output_type": "execute_result"
    }
   ],
   "source": [
    "# Partial slice - 4th vertical plane, top row only\n",
    "arr3D[:,0:1,3]"
   ]
  },
  {
   "cell_type": "code",
   "execution_count": 11,
   "metadata": {},
   "outputs": [
    {
     "data": {
      "text/plain": [
       "array([8, 4])"
      ]
     },
     "execution_count": 11,
     "metadata": {},
     "output_type": "execute_result"
    }
   ],
   "source": [
    "# Partial slice - 2nd vertical plane, 2nd column, 1st 2 rows only \n",
    "arr3D[1,0:2,1]"
   ]
  },
  {
   "cell_type": "code",
   "execution_count": 12,
   "metadata": {},
   "outputs": [
    {
     "data": {
      "text/plain": [
       "array([[0, 9, 7, 0],\n",
       "       [2, 2, 7, 4],\n",
       "       [3, 8, 1, 6],\n",
       "       [1, 9, 5, 8],\n",
       "       [3, 3, 1, 4]])"
      ]
     },
     "execution_count": 12,
     "metadata": {},
     "output_type": "execute_result"
    }
   ],
   "source": [
    "arr_2D"
   ]
  },
  {
   "cell_type": "code",
   "execution_count": 13,
   "metadata": {},
   "outputs": [
    {
     "name": "stdout",
     "output_type": "stream",
     "text": [
      "2521917852528\n"
     ]
    },
    {
     "ename": "NameError",
     "evalue": "name 'arr2_2D1' is not defined",
     "output_type": "error",
     "traceback": [
      "\u001b[1;31m---------------------------------------------------------------------------\u001b[0m",
      "\u001b[1;31mNameError\u001b[0m                                 Traceback (most recent call last)",
      "\u001b[1;32m<ipython-input-13-c1fb9bf3458c>\u001b[0m in \u001b[0;36m<module>\u001b[1;34m\u001b[0m\n\u001b[0;32m      2\u001b[0m \u001b[0marr_2D1\u001b[0m \u001b[1;33m=\u001b[0m \u001b[0marr_2D\u001b[0m\u001b[1;33m\u001b[0m\u001b[1;33m\u001b[0m\u001b[0m\n\u001b[0;32m      3\u001b[0m \u001b[0mprint\u001b[0m\u001b[1;33m(\u001b[0m\u001b[0mid\u001b[0m\u001b[1;33m(\u001b[0m\u001b[0marr_2D\u001b[0m\u001b[1;33m)\u001b[0m\u001b[1;33m)\u001b[0m\u001b[1;33m\u001b[0m\u001b[1;33m\u001b[0m\u001b[0m\n\u001b[1;32m----> 4\u001b[1;33m \u001b[0mprint\u001b[0m\u001b[1;33m(\u001b[0m\u001b[0mid\u001b[0m\u001b[1;33m(\u001b[0m\u001b[0marr2_2D1\u001b[0m\u001b[1;33m)\u001b[0m\u001b[1;33m)\u001b[0m\u001b[1;33m\u001b[0m\u001b[1;33m\u001b[0m\u001b[0m\n\u001b[0m",
      "\u001b[1;31mNameError\u001b[0m: name 'arr2_2D1' is not defined"
     ]
    }
   ],
   "source": [
    "## Assignment of one array to another variable creates another view of the same array. They point to the same object.\n",
    "arr_2D1 = arr_2D\n",
    "print(id(arr_2D))\n",
    "print(id(arr2_2D1))"
   ]
  },
  {
   "cell_type": "code",
   "execution_count": null,
   "metadata": {},
   "outputs": [],
   "source": [
    "# Modification through the other variable reflects in the original array\n",
    "arr_2D1[0,3] = 4\n",
    "print(arr_2D)"
   ]
  },
  {
   "cell_type": "code",
   "execution_count": null,
   "metadata": {
    "scrolled": true
   },
   "outputs": [],
   "source": [
    "# Similarly, any slice of an array also is just a view of the same array. Any changes to the slice will reflect in the\n",
    "# original array\n",
    "arr_2D2 = arr_2D[1,:]\n",
    "arr_2D2[2] = 3\n",
    "arr_2D"
   ]
  },
  {
   "cell_type": "markdown",
   "metadata": {},
   "source": [
    "### Boolean Indexing\n",
    "\n",
    "It is a very common need to loop through an array and pick up elements that satisfy an if condition. This set of 'for' loop and 'if' statements are totally unnecessary for numpy arrays. As this entire process, of selecting elements from an array based on condition is handled by simply indexing the array itself with the condition, as simple as that. This awesome method is known as boolean indexing. Internally an array of booleans is passed as index."
   ]
  },
  {
   "cell_type": "code",
   "execution_count": null,
   "metadata": {},
   "outputs": [],
   "source": [
    "a1 = np.random.randint(10,size=(10))\n",
    "print(a1)"
   ]
  },
  {
   "cell_type": "code",
   "execution_count": null,
   "metadata": {},
   "outputs": [],
   "source": [
    "# Any relational operation or a combination of relational operations with the array variable yields an array of booleans\n",
    "boolarr1 = a1>6\n",
    "print(boolarr1)"
   ]
  },
  {
   "cell_type": "code",
   "execution_count": null,
   "metadata": {},
   "outputs": [],
   "source": [
    "# The array of the booleans passed as index to original array will pick up only elements indedxed as True, elements indexed\n",
    "# as False will be removed\n",
    "a1[boolarr1]"
   ]
  },
  {
   "cell_type": "code",
   "execution_count": null,
   "metadata": {},
   "outputs": [],
   "source": [
    "# Since both the relational expression and the resultant boolean array are equivalent. We can directly use the \n",
    "# relational expression on the array itself to index the array on basis of the condition. This is very useful\n",
    "a1[a1>6]"
   ]
  },
  {
   "cell_type": "code",
   "execution_count": null,
   "metadata": {},
   "outputs": [],
   "source": [
    "# Print Odd and Even numbers in the array in different arrays\n",
    "print(a1[a1%2==0])\n",
    "print(a1[a1%2!=0])"
   ]
  },
  {
   "cell_type": "code",
   "execution_count": null,
   "metadata": {},
   "outputs": [],
   "source": [
    "# Complex conditions (Make sure you put each individual condition which are being and-ed/or-ed, in parentheses, or it\n",
    "# does not work)\n",
    "print(a1[(a1>2) & (a1<8)])\n",
    "print(a1[(a1>2) | (a1<8)])"
   ]
  },
  {
   "cell_type": "code",
   "execution_count": 14,
   "metadata": {},
   "outputs": [
    {
     "data": {
      "text/plain": [
       "array([[ 8,  2,  8,  0],\n",
       "       [12, 18,  0,  8],\n",
       "       [ 1, 19,  8,  6],\n",
       "       [17, 14, 19,  5],\n",
       "       [ 0, 18, 15, 16]])"
      ]
     },
     "execution_count": 14,
     "metadata": {},
     "output_type": "execute_result"
    }
   ],
   "source": [
    "a2 = np.random.randint(20,size=(5,4))\n",
    "a2\n"
   ]
  },
  {
   "cell_type": "markdown",
   "metadata": {},
   "source": [
    "We can also use combinations of boolean indexing for some axis and normal integer indexing/slices for other axis\n",
    "If we pass a one-dimensional array of booleans as an index to a 2D array, it will interpret the booleans to whether or not to select entire rows or entire columns."
   ]
  },
  {
   "cell_type": "code",
   "execution_count": 15,
   "metadata": {},
   "outputs": [
    {
     "data": {
      "text/plain": [
       "array([[ True,  True,  True,  True],\n",
       "       [ True,  True,  True,  True],\n",
       "       [False, False,  True,  True],\n",
       "       [False,  True, False, False],\n",
       "       [ True,  True, False,  True]])"
      ]
     },
     "execution_count": 15,
     "metadata": {},
     "output_type": "execute_result"
    }
   ],
   "source": [
    "a2_boolarr1 = (a2 % 2 == 0)\n",
    "a2_boolarr1"
   ]
  },
  {
   "cell_type": "code",
   "execution_count": 22,
   "metadata": {},
   "outputs": [
    {
     "data": {
      "text/plain": [
       "array([ 8,  2,  8,  0, 12, 18,  0,  8,  8,  6, 14,  0, 18, 16])"
      ]
     },
     "execution_count": 22,
     "metadata": {},
     "output_type": "execute_result"
    }
   ],
   "source": [
    "a2[a2_boolarr1]"
   ]
  },
  {
   "cell_type": "code",
   "execution_count": 23,
   "metadata": {},
   "outputs": [
    {
     "data": {
      "text/plain": [
       "[True, False, True, False, True]"
      ]
     },
     "execution_count": 23,
     "metadata": {},
     "output_type": "execute_result"
    }
   ],
   "source": [
    "a2_boolarr2 = [ True,  False,  True,  False , True]\n",
    "a2_boolarr2"
   ]
  },
  {
   "cell_type": "code",
   "execution_count": 24,
   "metadata": {},
   "outputs": [
    {
     "data": {
      "text/plain": [
       "array([ 8,  8, 15])"
      ]
     },
     "execution_count": 24,
     "metadata": {},
     "output_type": "execute_result"
    }
   ],
   "source": [
    "a2[a2_boolarr2,2]"
   ]
  },
  {
   "cell_type": "code",
   "execution_count": 27,
   "metadata": {},
   "outputs": [
    {
     "data": {
      "text/plain": [
       "array([[ 8,  2],\n",
       "       [12, 18],\n",
       "       [ 1, 19],\n",
       "       [17, 14],\n",
       "       [ 0, 18]])"
      ]
     },
     "execution_count": 27,
     "metadata": {},
     "output_type": "execute_result"
    }
   ],
   "source": [
    "a2_boolarr3 = [True, True, False, False]\n",
    "a2[:,a2_boolarr3]"
   ]
  },
  {
   "cell_type": "markdown",
   "metadata": {},
   "source": [
    "### Fancy Indexing (Row/Column Numbers)"
   ]
  },
  {
   "cell_type": "code",
   "execution_count": 28,
   "metadata": {},
   "outputs": [
    {
     "data": {
      "text/plain": [
       "array([[ 8,  2,  8,  0],\n",
       "       [ 1, 19,  8,  6],\n",
       "       [ 0, 18, 15, 16]])"
      ]
     },
     "execution_count": 28,
     "metadata": {},
     "output_type": "execute_result"
    }
   ],
   "source": [
    "a2[[0,2,4]]"
   ]
  },
  {
   "cell_type": "code",
   "execution_count": 29,
   "metadata": {},
   "outputs": [
    {
     "data": {
      "text/plain": [
       "array([[ 2,  0],\n",
       "       [18,  8],\n",
       "       [19,  6],\n",
       "       [14,  5],\n",
       "       [18, 16]])"
      ]
     },
     "execution_count": 29,
     "metadata": {},
     "output_type": "execute_result"
    }
   ],
   "source": [
    "a2[:,[1,3]]"
   ]
  },
  {
   "cell_type": "code",
   "execution_count": 31,
   "metadata": {},
   "outputs": [
    {
     "data": {
      "text/plain": [
       "array([ 8, 19, 16])"
      ]
     },
     "execution_count": 31,
     "metadata": {},
     "output_type": "execute_result"
    }
   ],
   "source": [
    "# a2[[0,2,4],[1,3]] --> This will fail. Intuitively it appears as if we are looking for the intersection \n",
    "# of these rows/columns by saying above, but actually it creates a corresponding 2-tuple from both lists. \n",
    "# So instead below will give us exactly 3 elements-  a2[0,0],a2[2,1],a2[4,3]\n",
    "a2[[0,2,4],[0,1,3]]"
   ]
  },
  {
   "cell_type": "code",
   "execution_count": 38,
   "metadata": {},
   "outputs": [
    {
     "data": {
      "text/plain": [
       "array([[ 2,  0],\n",
       "       [19,  6],\n",
       "       [18, 16]])"
      ]
     },
     "execution_count": 38,
     "metadata": {},
     "output_type": "execute_result"
    }
   ],
   "source": [
    "#In order to do what we actually wanted to do, we can first use fancy indexing for rows and then again on top of that\n",
    "# indexed array, again use fancy indexing for columns\n",
    "a2[[0,2,4]][:,[1,3]]"
   ]
  }
 ],
 "metadata": {
  "kernelspec": {
   "display_name": "Python 3",
   "language": "python",
   "name": "python3"
  },
  "language_info": {
   "codemirror_mode": {
    "name": "ipython",
    "version": 3
   },
   "file_extension": ".py",
   "mimetype": "text/x-python",
   "name": "python",
   "nbconvert_exporter": "python",
   "pygments_lexer": "ipython3",
   "version": "3.7.6"
  }
 },
 "nbformat": 4,
 "nbformat_minor": 4
}
