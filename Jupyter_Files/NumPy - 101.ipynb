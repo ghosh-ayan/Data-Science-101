{
 "cells": [
  {
   "cell_type": "markdown",
   "metadata": {},
   "source": [
    "### 1 Dimensional Numpy Array\n",
    "#### <font color='red'> \"Vectors - 1D\" </font>"
   ]
  },
  {
   "cell_type": "code",
   "execution_count": 5,
   "metadata": {
    "scrolled": true
   },
   "outputs": [
    {
     "name": "stdout",
     "output_type": "stream",
     "text": [
      "[ 1  2  3  4  5  6  7  8  9 10]\n",
      "shape: (10,)\n",
      "size: 10\n",
      "ndim: 1\n",
      "dtype: int32\n",
      "len(): 10\n"
     ]
    }
   ],
   "source": [
    "import numpy as np\n",
    "\n",
    "a = np.array([1, 2, 3, 4, 5, 6, 7, 8, 9, 10])\n",
    "print(a)\n",
    "print(\"shape: {}\".format(a.shape))\n",
    "print(\"size: {}\".format(a.size))\n",
    "print(\"ndim: {}\".format(a.ndim))\n",
    "print(\"dtype: {}\".format(a.dtype))\n",
    "print(\"len(): {}\".format(len(a)))"
   ]
  },
  {
   "cell_type": "markdown",
   "metadata": {},
   "source": [
    "### 2 Dimensional Numpy Array\n",
    "#### <font color='red'> \"Matrices - 2D\" </font>"
   ]
  },
  {
   "cell_type": "code",
   "execution_count": 6,
   "metadata": {},
   "outputs": [
    {
     "name": "stdout",
     "output_type": "stream",
     "text": [
      "[[ 1  2  3]\n",
      " [ 4  5  6]\n",
      " [ 7  8  9]\n",
      " [10 11 12]]\n",
      "shape: (4, 3)\n",
      "size: 12\n",
      "ndim: 2\n",
      "dtype: int32\n",
      "len(): 4\n"
     ]
    }
   ],
   "source": [
    "b = np.array([[1, 2, 3], [4, 5, 6], [7, 8, 9],[10, 11, 12]])\n",
    "print(b)\n",
    "print(\"shape: {}\".format(b.shape))\n",
    "print(\"size: {}\".format(b.size))\n",
    "print(\"ndim: {}\".format(b.ndim))\n",
    "print(\"dtype: {}\".format(b.dtype))\n",
    "print(\"len(): {}\".format(len(b)))\n"
   ]
  },
  {
   "cell_type": "markdown",
   "metadata": {},
   "source": [
    "### 3 Dimensional Numpy Array\n",
    "#### <font color ='red'>\"Tensors (3-D or above)\"</font>"
   ]
  },
  {
   "cell_type": "code",
   "execution_count": 7,
   "metadata": {},
   "outputs": [
    {
     "name": "stdout",
     "output_type": "stream",
     "text": [
      "[[[ 1  2  3  4]\n",
      "  [ 5  6  7  8]]\n",
      "\n",
      " [[ 9 10 11 12]\n",
      "  [13 14 15 16]]]\n",
      "shape: (2, 2, 4)\n",
      "size: 16\n",
      "ndim: 3\n",
      "dtype: int32\n",
      "len(): 2\n"
     ]
    }
   ],
   "source": [
    "c = np.array([[[1, 2, 3, 4],[5, 6, 7, 8]],[[9, 10, 11, 12],[13, 14, 15, 16]]])\n",
    "print(c)\n",
    "print(\"shape: {}\".format(c.shape))\n",
    "print(\"size: {}\".format(c.size))\n",
    "print(\"ndim: {}\".format(c.ndim))\n",
    "print(\"dtype: {}\".format(c.dtype))\n",
    "print(\"len(): {}\".format(len(c)))"
   ]
  },
  {
   "cell_type": "markdown",
   "metadata": {},
   "source": [
    "### Different Ways to Create ndarray\n",
    "#### np.array(), np.zeros(), np.ones(),np.empty(),np.arange(start,stop,step),np.linspace(start,stop,number of points)"
   ]
  },
  {
   "cell_type": "code",
   "execution_count": 8,
   "metadata": {},
   "outputs": [
    {
     "name": "stdout",
     "output_type": "stream",
     "text": [
      "[1 2]\n"
     ]
    }
   ],
   "source": [
    "array_array = np.array([1, 2])\n",
    "print(array_array)"
   ]
  },
  {
   "cell_type": "code",
   "execution_count": 9,
   "metadata": {},
   "outputs": [
    {
     "name": "stdout",
     "output_type": "stream",
     "text": [
      "[[0 0 0]\n",
      " [0 0 0]]\n"
     ]
    }
   ],
   "source": [
    "zeros_array = np.zeros((2, 3),int)\n",
    "print(zeros_array)"
   ]
  },
  {
   "cell_type": "code",
   "execution_count": 10,
   "metadata": {},
   "outputs": [
    {
     "name": "stdout",
     "output_type": "stream",
     "text": [
      "[[1 1 1 1]\n",
      " [1 1 1 1]\n",
      " [1 1 1 1]]\n"
     ]
    }
   ],
   "source": [
    "ones_array = np.ones((3,4),int)\n",
    "print(ones_array)"
   ]
  },
  {
   "cell_type": "code",
   "execution_count": 11,
   "metadata": {},
   "outputs": [
    {
     "name": "stdout",
     "output_type": "stream",
     "text": [
      "[[0. 0. 0. 0.]\n",
      " [0. 0. 0. 0.]\n",
      " [0. 0. 0. 0.]\n",
      " [0. 0. 0. 0.]\n",
      " [0. 0. 0. 0.]]\n"
     ]
    }
   ],
   "source": [
    "empty_array = np.empty((5,4))\n",
    "print(empty_array)"
   ]
  },
  {
   "cell_type": "code",
   "execution_count": 12,
   "metadata": {},
   "outputs": [
    {
     "name": "stdout",
     "output_type": "stream",
     "text": [
      "[0 1 2 3 4 5 6 7 8 9]\n"
     ]
    }
   ],
   "source": [
    "arange_array = np.arange(10)\n",
    "print(arange_array)"
   ]
  },
  {
   "cell_type": "code",
   "execution_count": 13,
   "metadata": {},
   "outputs": [
    {
     "name": "stdout",
     "output_type": "stream",
     "text": [
      "[0 2 4 6 8]\n"
     ]
    }
   ],
   "source": [
    "arange_array_1 = np.arange(0,10,2)\n",
    "print(arange_array_1)"
   ]
  },
  {
   "cell_type": "code",
   "execution_count": 14,
   "metadata": {},
   "outputs": [
    {
     "name": "stdout",
     "output_type": "stream",
     "text": [
      "[  0.   5.  10.  15.  20.  25.  30.  35.  40.  45.  50.  55.  60.  65.\n",
      "  70.  75.  80.  85.  90.  95. 100.]\n"
     ]
    }
   ],
   "source": [
    "linspace_array = np.linspace(0,100,21)\n",
    "print(linspace_array)"
   ]
  },
  {
   "cell_type": "markdown",
   "metadata": {},
   "source": [
    "### Sorting an array with np.sort() function and ndarray.sort() method\n",
    "np.sort() returns a sorted copy. ndarray.sort() sorts in place."
   ]
  },
  {
   "cell_type": "markdown",
   "metadata": {},
   "source": [
    "**numpy.sort(a, axis=-1, kind=None, order=None)\n",
    "Return a sorted copy of an array.**\n",
    "\n",
    "**Parameters:-**\n",
    "\n",
    "a : array_like\n",
    "Array to be sorted.\n",
    "\n",
    "axis : int or None, optional\n",
    "Axis along which to sort. If None, the array is flattened before sorting. The default is -1, which sorts along the last axis.\n",
    "\n",
    "kind : {‘quicksort’, ‘mergesort’, ‘heapsort’, ‘stable’}, optional\n",
    "Sorting algorithm. The default is ‘quicksort’. Note that both ‘stable’ and ‘mergesort’ use timsort or radix sort under the covers and, in general, the actual implementation will vary with data type. The ‘mergesort’ option is retained for backwards compatibility.\n",
    "\n",
    "Changed in version 1.15.0.: The ‘stable’ option was added.\n",
    "\n",
    "order : str or list of str, optional\n",
    "When a is an array with fields defined, this argument specifies which fields to compare first, second, etc. A single field can be specified as a string, and not all fields need be specified, but unspecified fields will still be used, in the order in which they come up in the dtype, to break ties.\n",
    "\n",
    "**Returns:-**\n",
    "\n",
    "sorted_array : ndarray\n",
    "Array of the same type and shape as a."
   ]
  },
  {
   "cell_type": "code",
   "execution_count": 45,
   "metadata": {},
   "outputs": [
    {
     "name": "stdout",
     "output_type": "stream",
     "text": [
      "unsorted_array : [7 9 0 5 5 3 4 0 6 0]\n",
      "sorted_array : [0 0 0 3 4 5 5 6 7 9]\n",
      "unsorted_array : [7 9 0 5 5 3 4 0 6 0]\n"
     ]
    }
   ],
   "source": [
    "## np.sort() function is different from inbuilt Python method sort(), it does not sort in-place. It returns a copy of the sorted array.\n",
    "unsorted_array = np.random.randint(10,size=(10))\n",
    "print(\"unsorted_array : {}\".format(unsorted_array))\n",
    "sorted_array= np.sort(unsorted_array,)\n",
    "print(\"sorted_array : {}\".format(sorted_array))\n",
    "print(\"unsorted_array : {}\".format(unsorted_array))"
   ]
  },
  {
   "cell_type": "code",
   "execution_count": 46,
   "metadata": {},
   "outputs": [
    {
     "name": "stdout",
     "output_type": "stream",
     "text": [
      "unsorted_array : \n",
      "[[0 2 3 9 5]\n",
      " [3 7 0 0 8]\n",
      " [5 5 3 6 4]]\n",
      "sorted_array : \n",
      "[[0 2 0 0 4]\n",
      " [3 5 3 6 5]\n",
      " [5 7 3 9 8]]\n",
      "sorted_array flattened : \n",
      "[0 2 0 0 4 3 5 3 6 5 5 7 3 9 8]\n",
      "unsorted_array : \n",
      "[[0 2 3 9 5]\n",
      " [3 7 0 0 8]\n",
      " [5 5 3 6 4]]\n"
     ]
    }
   ],
   "source": [
    "## np.sort() is different from inbuilt Python sort(), it does not sort in-place. It returns a copy of the sorted array.\n",
    "unsorted_array_2D = np.random.randint(10,size=(3,5))\n",
    "print(\"unsorted_array : \")\n",
    "print(unsorted_array_2D)\n",
    "sorted_array_2D= np.sort(unsorted_array_2D,axis=0)\n",
    "print(\"sorted_array : \")\n",
    "print(sorted_array_2D)\n",
    "print(\"sorted_array flattened : \")\n",
    "print(sorted_array_2D.reshape(15))\n",
    "print(\"unsorted_array : \")\n",
    "print(unsorted_array_2D)"
   ]
  },
  {
   "cell_type": "code",
   "execution_count": 38,
   "metadata": {},
   "outputs": [
    {
     "name": "stdout",
     "output_type": "stream",
     "text": [
      "Unsorted Array 3D:-\n",
      "[[[17 11  5  7  2]\n",
      "  [27 22 12  6 20]]\n",
      "\n",
      " [[29 18 24 25 19]\n",
      "  [10  4  3 15  8]]\n",
      "\n",
      " [[21  9 14  1 13]\n",
      "  [28  0 23 26 16]]]\n",
      "Sorted Array 3D:-\n",
      "[[[17  9  5  1  2]\n",
      "  [10  0  3  6  8]]\n",
      "\n",
      " [[21 11 14  7 13]\n",
      "  [27  4 12 15 16]]\n",
      "\n",
      " [[29 18 24 25 19]\n",
      "  [28 22 23 26 20]]]\n"
     ]
    }
   ],
   "source": [
    "a = np.arange(30)\n",
    "unsorted_array_3D = np.random.choice(a,size=(3,2,5),replace=False)\n",
    "print(\"Unsorted Array 3D:-\")\n",
    "print(unsorted_array_3D)\n",
    "sorted_array_3D = np.sort(unsorted_array_3D,axis=0)\n",
    "print(\"Sorted Array 3D:-\")\n",
    "print(sorted_array_3D)"
   ]
  },
  {
   "cell_type": "markdown",
   "metadata": {},
   "source": [
    "### Understanding Axes and Dimensions from 4D onwards "
   ]
  },
  {
   "cell_type": "code",
   "execution_count": 70,
   "metadata": {},
   "outputs": [
    {
     "name": "stdout",
     "output_type": "stream",
     "text": [
      "Unsorted Array\n",
      "[[[[40 41 42 43 44]\n",
      "   [45 46 47 48 49]\n",
      "   [50 51 52 53 54]\n",
      "   [55 56 57 58 59]]\n",
      "\n",
      "  [[60 61 62 63 64]\n",
      "   [65 66 67 68 69]\n",
      "   [70 71 72 73 74]\n",
      "   [75 76 77 78 79]]]\n",
      "\n",
      "\n",
      " [[[ 0  1  2  3  4]\n",
      "   [ 5  6  7  8  9]\n",
      "   [10 11 12 13 14]\n",
      "   [15 16 17 18 19]]\n",
      "\n",
      "  [[20 21 22 23 24]\n",
      "   [25 26 27 28 29]\n",
      "   [30 31 32 33 34]\n",
      "   [35 36 37 38 39]]]]\n",
      "Sorted Array\n",
      "[[[[ 0  1  2  3  4]\n",
      "   [ 5  6  7  8  9]\n",
      "   [10 11 12 13 14]\n",
      "   [15 16 17 18 19]]\n",
      "\n",
      "  [[20 21 22 23 24]\n",
      "   [25 26 27 28 29]\n",
      "   [30 31 32 33 34]\n",
      "   [35 36 37 38 39]]]\n",
      "\n",
      "\n",
      " [[[40 41 42 43 44]\n",
      "   [45 46 47 48 49]\n",
      "   [50 51 52 53 54]\n",
      "   [55 56 57 58 59]]\n",
      "\n",
      "  [[60 61 62 63 64]\n",
      "   [65 66 67 68 69]\n",
      "   [70 71 72 73 74]\n",
      "   [75 76 77 78 79]]]]\n"
     ]
    }
   ],
   "source": [
    "# Understanding 4 dimensions, sorting a 4D array on axis = 0.\n",
    "# Anything after 3D is just repetition of 3 dimensions.\n",
    "# 4D is a row of 3D cubes\n",
    "# 5D is a sheet of 3D cubes\n",
    "# 6D is a cube of 3D cubes\n",
    "# 7D is a row of 6D cubes....\n",
    "#set1 = np.arange(80)\n",
    "#unsorted_array_4D = np.random.choice(set1,size=(2,2,4,5),replace=False)  \n",
    "unsorted_array_4D = np.arange(80).reshape(2,2,4,5)\n",
    "np.random.shuffle(unsorted_array_4D)\n",
    "print(\"Unsorted Array\")\n",
    "print(unsorted_array_4D)\n",
    "sorted_array_4D = np.sort(unsorted_array_4D,axis=0)\n",
    "print(\"Sorted Array\")\n",
    "print(sorted_array_4D)\n"
   ]
  },
  {
   "cell_type": "markdown",
   "metadata": {},
   "source": [
    "### Concatenate()"
   ]
  },
  {
   "cell_type": "code",
   "execution_count": 79,
   "metadata": {},
   "outputs": [
    {
     "name": "stdout",
     "output_type": "stream",
     "text": [
      "[[ 0  1  2  3  4 10 11 12 13 14 20 21 22 23 24]\n",
      " [ 5  6  7  8  9 15 16 17 18 19 25 26 27 28 29]]\n"
     ]
    }
   ],
   "source": [
    "a1 = np.arange(10).reshape(2,5)\n",
    "a2 = np.arange(10,20).reshape(2,5)\n",
    "a3 = np.arange(20,30).reshape(2,5)\n",
    "a4 = np.concatenate((a1,a2,a3),axis=1)\n",
    "print(a4)"
   ]
  },
  {
   "cell_type": "markdown",
   "metadata": {},
   "source": [
    "If you are ever interested in internal workings of NumPy arrays, please go to:-\n",
    "https://numpy.org/doc/1.19/reference/internals.html#numpy-internals\n"
   ]
  },
  {
   "cell_type": "code",
   "execution_count": 81,
   "metadata": {},
   "outputs": [
    {
     "name": "stdout",
     "output_type": "stream",
     "text": [
      "[[1 2 3 4 5 6]]\n",
      "[[1]\n",
      " [2]\n",
      " [3]\n",
      " [4]\n",
      " [5]\n",
      " [6]]\n"
     ]
    }
   ],
   "source": [
    "a = np.array([1, 2, 3, 4, 5, 6])\n",
    "row_vector = a[np.newaxis, :]\n",
    "print(row_vector)\n",
    "col_vector = a[:, np.newaxis]\n",
    "print(col_vector)"
   ]
  },
  {
   "cell_type": "code",
   "execution_count": 87,
   "metadata": {},
   "outputs": [
    {
     "data": {
      "text/plain": [
       "array([[0, 0, 1, 0],\n",
       "       [0, 2, 4, 2]], dtype=int64)"
      ]
     },
     "execution_count": 87,
     "metadata": {},
     "output_type": "execute_result"
    }
   ],
   "source": []
  }
 ],
 "metadata": {
  "kernelspec": {
   "display_name": "Python 3",
   "language": "python",
   "name": "python3"
  },
  "language_info": {
   "codemirror_mode": {
    "name": "ipython",
    "version": 3
   },
   "file_extension": ".py",
   "mimetype": "text/x-python",
   "name": "python",
   "nbconvert_exporter": "python",
   "pygments_lexer": "ipython3",
   "version": "3.7.6"
  }
 },
 "nbformat": 4,
 "nbformat_minor": 4
}
