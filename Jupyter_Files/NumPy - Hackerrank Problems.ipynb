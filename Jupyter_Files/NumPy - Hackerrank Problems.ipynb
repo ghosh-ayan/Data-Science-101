{
 "cells": [
  {
   "cell_type": "code",
   "execution_count": 1,
   "metadata": {},
   "outputs": [],
   "source": [
    "import numpy as np"
   ]
  },
  {
   "cell_type": "code",
   "execution_count": 3,
   "metadata": {},
   "outputs": [
    {
     "name": "stdout",
     "output_type": "stream",
     "text": [
      "1 2 3 4 5 6 7 8 9\n",
      "[[1 2 3]\n",
      " [4 5 6]\n",
      " [7 8 9]]\n"
     ]
    }
   ],
   "source": [
    "# Problem 1\n",
    "list1 = list(map(int, input().split()))\n",
    "arr1 = np.array(list1)\n",
    "print(arr1.reshape(3,3))"
   ]
  },
  {
   "cell_type": "code",
   "execution_count": null,
   "metadata": {},
   "outputs": [],
   "source": [
    "# Problem 2\n",
    "N,M = tuple(map(int,input().split()))\n",
    "list2 = []\n",
    "\n",
    "for _ in range(N):\n",
    "    row_i = list(map(int,input().split()))\n",
    "    list2.append(row_i)\n",
    "\n",
    "arr2 = np.array(list2)\n",
    "print(np.transpose(arr2))\n",
    "print(arr2.flatten())\n"
   ]
  },
  {
   "cell_type": "code",
   "execution_count": 17,
   "metadata": {},
   "outputs": [
    {
     "name": "stdout",
     "output_type": "stream",
     "text": [
      "[[1 2 3]\n",
      " [0 0 0]\n",
      " [0 0 0]\n",
      " [7 8 9]]\n",
      "[[1 2 3 0 0 0]\n",
      " [0 0 0 7 8 9]]\n",
      "[[1 2 3 0 0 0]\n",
      " [0 0 0 7 8 9]]\n",
      "[[1 2 3]\n",
      " [0 0 0]\n",
      " [0 0 0]\n",
      " [7 8 9]]\n"
     ]
    }
   ],
   "source": [
    "# Problem 3 Pre-requisite, Seems concatenate(axis 0) is same as vstack,\n",
    "# and concatenate(axis=1) is same as hstack\n",
    "array_1 = np.array([[1,2,3],[0,0,0]])\n",
    "array_2 = np.array([[0,0,0],[7,8,9]])\n",
    "print(np.concatenate((array_1, array_2)))  \n",
    "print(np.concatenate((array_1, array_2),axis=1))\n",
    "print(np.hstack((array_1,array_2)))\n",
    "print(np.vstack((array_1,array_2)))"
   ]
  },
  {
   "cell_type": "code",
   "execution_count": 25,
   "metadata": {},
   "outputs": [
    {
     "name": "stdout",
     "output_type": "stream",
     "text": [
      "4 3 2\n",
      "1 2\n",
      "1 2\n",
      "1 2\n",
      "1 2\n",
      "3 4\n",
      "3 4\n",
      "3 4\n",
      "[[1 2]\n",
      " [1 2]\n",
      " [1 2]\n",
      " [1 2]]\n",
      "[[3 4]\n",
      " [3 4]\n",
      " [3 4]]\n",
      "[[1 2]\n",
      " [1 2]\n",
      " [1 2]\n",
      " [1 2]\n",
      " [3 4]\n",
      " [3 4]\n",
      " [3 4]]\n"
     ]
    }
   ],
   "source": [
    "# Problem 3\n",
    "N,M,P = tuple(map(int,input().split()))\n",
    "list_p3_1 = []\n",
    "for i in range(N):\n",
    "    list_p3_1.append(list(map(int,input().split())))\n",
    "    \n",
    "list_p3_2 = []\n",
    "for i in range(M):\n",
    "    list_p3_2.append(list(map(int,input().split())))\n",
    "\n",
    "array_p3_1 = np.array(list_p3_1)\n",
    "print(array_p3_1)\n",
    "array_p3_2 = np.array(list_p3_2)\n",
    "print(array_p3_2)\n",
    "\n",
    "print(np.concatenate((array_p3_1,array_p3_2),axis=0))\n",
    "    \n",
    "        "
   ]
  },
  {
   "cell_type": "code",
   "execution_count": 30,
   "metadata": {},
   "outputs": [
    {
     "name": "stdout",
     "output_type": "stream",
     "text": [
      "4 3 2\n",
      "1 2\n",
      "1 2\n",
      "1 2\n",
      "1 2\n",
      "3 4\n",
      "3 4\n",
      "3 4\n",
      "[[1 2]\n",
      " [1 2]\n",
      " [1 2]\n",
      " [1 2]\n",
      " [3 4]\n",
      " [3 4]\n",
      " [3 4]]\n"
     ]
    }
   ],
   "source": [
    "# Problem 3, Alternative solution using list comprehensions to shorten the code and remove\n",
    "# for loops\n",
    "N, M, P = map(int, input().split())\n",
    "n = np.array([list(map(int, input().split())) for _ in range(N)])\n",
    "m = np.array([list(map(int, input().split())) for _ in range(M)])\n",
    "print(np.concatenate((n, m)))"
   ]
  },
  {
   "cell_type": "code",
   "execution_count": 31,
   "metadata": {},
   "outputs": [
    {
     "name": "stdout",
     "output_type": "stream",
     "text": [
      "3 3 3\n",
      "[[[0 0 0]\n",
      "  [0 0 0]\n",
      "  [0 0 0]]\n",
      "\n",
      " [[0 0 0]\n",
      "  [0 0 0]\n",
      "  [0 0 0]]\n",
      "\n",
      " [[0 0 0]\n",
      "  [0 0 0]\n",
      "  [0 0 0]]]\n",
      "[[[1 1 1]\n",
      "  [1 1 1]\n",
      "  [1 1 1]]\n",
      "\n",
      " [[1 1 1]\n",
      "  [1 1 1]\n",
      "  [1 1 1]]\n",
      "\n",
      " [[1 1 1]\n",
      "  [1 1 1]\n",
      "  [1 1 1]]]\n"
     ]
    }
   ],
   "source": [
    "tp4 = tuple(map(int,input().split()))\n",
    "print(np.zeros(tp4, dtype=int))\n",
    "print(np.ones(tp4,dtype=int))"
   ]
  },
  {
   "cell_type": "code",
   "execution_count": 32,
   "metadata": {},
   "outputs": [
    {
     "name": "stdout",
     "output_type": "stream",
     "text": [
      "3 3\n",
      "[[1. 0. 0.]\n",
      " [0. 1. 0.]\n",
      " [0. 0. 1.]]\n"
     ]
    }
   ],
   "source": [
    "# Problem 5, usage of replace is funny here, its just to match the answer set by the problem\n",
    "# setter(he incorrectly has added whitespaces to each array element). In the actual solution\n",
    "# replace can be omitted\n",
    "N,M = tuple(map(int,input().split()))\n",
    "print(str(np.eye(N,M,k=0)).replace('1',' 1').replace('0',' 0'))"
   ]
  },
  {
   "cell_type": "code",
   "execution_count": 39,
   "metadata": {},
   "outputs": [
    {
     "name": "stdout",
     "output_type": "stream",
     "text": [
      "1 4\n",
      "1 2 3 4\n",
      "5 6 7 8\n",
      "[[ 6  8 10 12]]\n",
      "[[-4 -4 -4 -4]]\n",
      "[[ 5 12 21 32]]\n",
      "[[0 0 0 0]]\n",
      "[[1 2 3 4]]\n",
      "[[    1    64  2187 65536]]\n"
     ]
    }
   ],
   "source": [
    "# Problem 6, Array Mathematics\n",
    "N,M = map(int,input().split())\n",
    "A = np.array([list(map(int,input().split())) for _ in range(N)])\n",
    "B = np.array([list(map(int,input().split())) for _ in range(N)])\n",
    "print(A+B)\n",
    "print(A-B)\n",
    "print(A*B)\n",
    "print(A//B)\n",
    "print(A%B)\n",
    "print(A**B)"
   ]
  },
  {
   "cell_type": "code",
   "execution_count": 42,
   "metadata": {},
   "outputs": [
    {
     "name": "stdout",
     "output_type": "stream",
     "text": [
      "1.1 2.2 3.3 4.4 5.5 6.6 7.7 8.8 9.9\n",
      "[1. 2. 3. 4. 5. 6. 7. 8. 9.]\n",
      "[ 2.  3.  4.  5.  6.  7.  8.  9. 10.]\n",
      "[ 1.  2.  3.  4.  6.  7.  8.  9. 10.]\n"
     ]
    }
   ],
   "source": [
    "# Problem 7, floor,ceil,rint. If answer does not match due to whitespacing use\n",
    "# np.set_printoptions(sign=' ')\n",
    "A = np.array(list(map(float,input().split())))\n",
    "print(np.floor(A))\n",
    "print(np.ceil(A))\n",
    "print(np.rint(A))"
   ]
  },
  {
   "cell_type": "code",
   "execution_count": 43,
   "metadata": {},
   "outputs": [
    {
     "name": "stdout",
     "output_type": "stream",
     "text": [
      "2 2\n",
      "1 2\n",
      "3 4\n",
      "24\n"
     ]
    }
   ],
   "source": [
    "# Problem 8, sum, prod\n",
    "N,M = map(int,input().split())\n",
    "arrp8 = np.array([list(map(int,input().split())) for _ in range(N)])\n",
    "arrp8_sum = np.sum(arrp8,axis=0)\n",
    "arrp8_sum_prod = np.prod(arrp8_sum)\n",
    "print(arrp8_sum_prod)"
   ]
  },
  {
   "cell_type": "code",
   "execution_count": 46,
   "metadata": {},
   "outputs": [
    {
     "name": "stdout",
     "output_type": "stream",
     "text": [
      "4 2\n",
      "2 5\n",
      "3 7\n",
      "1 3\n",
      "4 0\n",
      "3\n"
     ]
    }
   ],
   "source": [
    "# Problem 9, min, max\n",
    "N,M = map(int,input().split())\n",
    "arrp9 = np.array([list(map(int,input().split())) for _ in range(N)])\n",
    "print(np.max(np.min(arrp9,axis=1)))"
   ]
  },
  {
   "cell_type": "code",
   "execution_count": 59,
   "metadata": {},
   "outputs": [
    {
     "name": "stdout",
     "output_type": "stream",
     "text": [
      "2 2\n",
      "1 2\n",
      "3 4\n",
      "[1.5 3.5]\n",
      "[1. 1.]\n",
      "1.11803398875\n"
     ]
    }
   ],
   "source": [
    "# Problem 10 mean, var, std :: Some code is added to match the incorrect answer set by problem\n",
    "# setter - rounding and np.set_printoptions(sign=' ')\n",
    "N,M = map(int,input().split())\n",
    "arrp10 = np.array([list(map(int,input().split())) for _ in range(N)])\n",
    "print(np.mean(arrp10,axis=1))\n",
    "print(np.var(arrp10,axis=0))\n",
    "x = np.float32(np.std(arrp10,axis=None))\n",
    "print(round(np.std(arrp10,axis=None),11))"
   ]
  },
  {
   "cell_type": "code",
   "execution_count": 54,
   "metadata": {},
   "outputs": [
    {
     "data": {
      "text/plain": [
       "1.11803398875"
      ]
     },
     "execution_count": 54,
     "metadata": {},
     "output_type": "execute_result"
    }
   ],
   "source": [
    "#Problem 10. Below code statisfies the print properties. Learnt a new trick to set printoptions\n",
    "# resolves both the rounding need and the spacing need of older numpy printing\n",
    "# Commented that out below so that it does not apply to this notebook\n",
    "\n",
    "#np.set_printoptions(legacy='1.13')\n",
    "N,M = map(int,input().split())\n",
    "arrp10 = np.array([list(map(int,input().split())) for _ in range(N)])\n",
    "print(np.mean(arrp10,axis=1))\n",
    "print(np.var(arrp10,axis=0))\n",
    "print(np.std(arrp10,axis=None))"
   ]
  },
  {
   "cell_type": "code",
   "execution_count": 60,
   "metadata": {},
   "outputs": [
    {
     "name": "stdout",
     "output_type": "stream",
     "text": [
      "2\n",
      "1 2\n",
      "3 4\n",
      "1 2\n",
      "3 4\n",
      "[[ 7 10]\n",
      " [15 22]]\n"
     ]
    }
   ],
   "source": [
    "# Problem 11.\n",
    "N = int(input())\n",
    "A = np.array([list(map(int,input().split())) for _ in range(N)])\n",
    "B = np.array([list(map(int,input().split())) for _ in range(N)])\n",
    "print(np.dot(A,B))"
   ]
  },
  {
   "cell_type": "code",
   "execution_count": 61,
   "metadata": {},
   "outputs": [
    {
     "name": "stdout",
     "output_type": "stream",
     "text": [
      "2\n",
      "1.1 1.1\n",
      "1.1 1.1\n",
      "0.0\n"
     ]
    }
   ],
   "source": [
    "# Problem 12, np.linalg, Finding determinant of a matrix\n",
    "N = int(input())\n",
    "arrp12 = np.array([list(map(float,input().split())) for _ in range(N)])\n",
    "print(np.linalg.det(arrp12))"
   ]
  }
 ],
 "metadata": {
  "kernelspec": {
   "display_name": "Python 3",
   "language": "python",
   "name": "python3"
  },
  "language_info": {
   "codemirror_mode": {
    "name": "ipython",
    "version": 3
   },
   "file_extension": ".py",
   "mimetype": "text/x-python",
   "name": "python",
   "nbconvert_exporter": "python",
   "pygments_lexer": "ipython3",
   "version": "3.7.6"
  }
 },
 "nbformat": 4,
 "nbformat_minor": 4
}
