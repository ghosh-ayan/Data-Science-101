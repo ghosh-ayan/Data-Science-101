{
 "cells": [
  {
   "cell_type": "markdown",
   "metadata": {},
   "source": [
    "### 1 Dimensional Numpy Array\n",
    "#### <font color='red'> \"Vectors - 1D\" </font>"
   ]
  },
  {
   "cell_type": "code",
   "execution_count": 26,
   "metadata": {
    "scrolled": true
   },
   "outputs": [
    {
     "name": "stdout",
     "output_type": "stream",
     "text": [
      "[ 1  2  3  4  5  6  7  8  9 10]\n",
      "shape: (10,)\n",
      "size: 10\n",
      "ndim: 1\n",
      "dtype: int32\n",
      "len(): 10\n"
     ]
    }
   ],
   "source": [
    "import numpy as np\n",
    "\n",
    "a = np.array([1, 2, 3, 4, 5, 6, 7, 8, 9, 10])\n",
    "print(a)\n",
    "print(\"shape: {}\".format(a.shape))\n",
    "print(\"size: {}\".format(a.size))\n",
    "print(\"ndim: {}\".format(a.ndim))\n",
    "print(\"dtype: {}\".format(a.dtype))\n",
    "print(\"len(): {}\".format(len(a)))"
   ]
  },
  {
   "cell_type": "markdown",
   "metadata": {},
   "source": [
    "### 2 Dimensional Numpy Array\n",
    "#### <font color='red'> \"Matrices - 2D\" </font>"
   ]
  },
  {
   "cell_type": "code",
   "execution_count": 27,
   "metadata": {},
   "outputs": [
    {
     "name": "stdout",
     "output_type": "stream",
     "text": [
      "[[ 1  2  3]\n",
      " [ 4  5  6]\n",
      " [ 7  8  9]\n",
      " [10 11 12]]\n",
      "shape: (4, 3)\n",
      "size: 12\n",
      "ndim: 2\n",
      "dtype: int32\n",
      "len(): 4\n"
     ]
    }
   ],
   "source": [
    "b = np.array([[1, 2, 3], [4, 5, 6], [7, 8, 9],[10, 11, 12]])\n",
    "print(b)\n",
    "print(\"shape: {}\".format(b.shape))\n",
    "print(\"size: {}\".format(b.size))\n",
    "print(\"ndim: {}\".format(b.ndim))\n",
    "print(\"dtype: {}\".format(b.dtype))\n",
    "print(\"len(): {}\".format(len(b)))\n"
   ]
  },
  {
   "cell_type": "markdown",
   "metadata": {},
   "source": [
    "### 3 Dimensional Numpy Array\n",
    "#### <font color ='red'>\"Tensors (3-D or above)\"</font>"
   ]
  },
  {
   "cell_type": "code",
   "execution_count": 28,
   "metadata": {},
   "outputs": [
    {
     "name": "stdout",
     "output_type": "stream",
     "text": [
      "[[[ 1  2  3  4]\n",
      "  [ 5  6  7  8]]\n",
      "\n",
      " [[ 9 10 11 12]\n",
      "  [13 14 15 16]]]\n",
      "shape: (2, 2, 4)\n",
      "size: 16\n",
      "ndim: 3\n",
      "dtype: int32\n",
      "len(): 2\n"
     ]
    }
   ],
   "source": [
    "c = np.array([[[1, 2, 3, 4],[5, 6, 7, 8]],[[9, 10, 11, 12],[13, 14, 15, 16]]])\n",
    "print(c)\n",
    "print(\"shape: {}\".format(c.shape))\n",
    "print(\"size: {}\".format(c.size))\n",
    "print(\"ndim: {}\".format(c.ndim))\n",
    "print(\"dtype: {}\".format(c.dtype))\n",
    "print(\"len(): {}\".format(len(c)))"
   ]
  },
  {
   "cell_type": "markdown",
   "metadata": {},
   "source": [
    "### Different Ways to Create ndarray\n",
    "#### np.array(), np.zeros(), np.ones(),np.empty(),np.arange(start,stop,step),np.linspace(start,stop,number of points)"
   ]
  },
  {
   "cell_type": "code",
   "execution_count": 30,
   "metadata": {},
   "outputs": [
    {
     "name": "stdout",
     "output_type": "stream",
     "text": [
      "[1 2]\n"
     ]
    }
   ],
   "source": [
    "array_array = np.array([1, 2])\n",
    "print(array_array)"
   ]
  },
  {
   "cell_type": "code",
   "execution_count": 34,
   "metadata": {},
   "outputs": [
    {
     "name": "stdout",
     "output_type": "stream",
     "text": [
      "[[0 0 0]\n",
      " [0 0 0]]\n"
     ]
    }
   ],
   "source": [
    "zeros_array = np.zeros((2, 3),int)\n",
    "print(zeros_array)"
   ]
  },
  {
   "cell_type": "code",
   "execution_count": 38,
   "metadata": {},
   "outputs": [
    {
     "name": "stdout",
     "output_type": "stream",
     "text": [
      "[[1 1 1 1]\n",
      " [1 1 1 1]\n",
      " [1 1 1 1]]\n"
     ]
    }
   ],
   "source": [
    "ones_array = np.ones((3,4),int)\n",
    "print(ones_array)"
   ]
  },
  {
   "cell_type": "code",
   "execution_count": 40,
   "metadata": {},
   "outputs": [
    {
     "name": "stdout",
     "output_type": "stream",
     "text": [
      "[[6.23042070e-307 4.67296746e-307 1.69121096e-306 9.45743817e-308]\n",
      " [1.39071785e-307 7.56599807e-307 8.90104239e-307 1.24610383e-306]\n",
      " [1.69118108e-306 8.06632139e-308 1.20160711e-306 1.69119330e-306]\n",
      " [1.29062229e-306 1.24610383e-306 1.69118108e-306 8.90100844e-307]\n",
      " [1.60221072e-306 1.69120145e-306 1.11261909e-306 1.23712355e-311]]\n"
     ]
    }
   ],
   "source": [
    "empty_array = np.empty((5,4))\n",
    "print(empty_array)"
   ]
  },
  {
   "cell_type": "code",
   "execution_count": 48,
   "metadata": {},
   "outputs": [
    {
     "name": "stdout",
     "output_type": "stream",
     "text": [
      "[0 1 2 3 4 5 6 7 8 9]\n"
     ]
    }
   ],
   "source": [
    "arange_array = np.arange(10)\n",
    "print(arange_array)"
   ]
  },
  {
   "cell_type": "code",
   "execution_count": 49,
   "metadata": {},
   "outputs": [
    {
     "name": "stdout",
     "output_type": "stream",
     "text": [
      "[0 2 4 6 8]\n"
     ]
    }
   ],
   "source": [
    "arange_array_1 = np.arange(0,10,2)\n",
    "print(arange_array_1)"
   ]
  },
  {
   "cell_type": "code",
   "execution_count": 51,
   "metadata": {},
   "outputs": [
    {
     "name": "stdout",
     "output_type": "stream",
     "text": [
      "[  0.   5.  10.  15.  20.  25.  30.  35.  40.  45.  50.  55.  60.  65.\n",
      "  70.  75.  80.  85.  90.  95. 100.]\n"
     ]
    }
   ],
   "source": [
    "linspace_array = np.linspace(0,100,21)\n",
    "print(linspace_array)"
   ]
  }
 ],
 "metadata": {
  "kernelspec": {
   "display_name": "Python 3",
   "language": "python",
   "name": "python3"
  },
  "language_info": {
   "codemirror_mode": {
    "name": "ipython",
    "version": 3
   },
   "file_extension": ".py",
   "mimetype": "text/x-python",
   "name": "python",
   "nbconvert_exporter": "python",
   "pygments_lexer": "ipython3",
   "version": "3.7.6"
  }
 },
 "nbformat": 4,
 "nbformat_minor": 4
}
