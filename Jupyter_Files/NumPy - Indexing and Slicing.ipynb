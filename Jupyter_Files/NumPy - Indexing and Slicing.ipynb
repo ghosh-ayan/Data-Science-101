{
 "cells": [
  {
   "cell_type": "markdown",
   "metadata": {},
   "source": [
    "**Indexing** is used to obtain individual elements from an array, but it can also be used to obtain entire rows, columns or planes from multi-dimensional arrays.\n",
    "\n",
    "**Slicing** You can slice a numpy array is a similar way to slicing a list - except you can do it in more than one dimension.\n",
    "\n",
    "As with indexing, the array you get back when you index or slice a numpy array is a view of the original array. It is the same data, just accessed in a different order. This is different to lists, where a slice returns a completely new list."
   ]
  },
  {
   "cell_type": "code",
   "execution_count": 4,
   "metadata": {},
   "outputs": [
    {
     "name": "stdout",
     "output_type": "stream",
     "text": [
      "[2 0 4 4 8]\n",
      "8\n"
     ]
    }
   ],
   "source": [
    "import numpy as np\n",
    "arr_1D = np.random.randint(10,size=(5))\n",
    "print(arr_1D)\n",
    "print(arr_1D[4])"
   ]
  },
  {
   "cell_type": "code",
   "execution_count": 19,
   "metadata": {},
   "outputs": [
    {
     "name": "stdout",
     "output_type": "stream",
     "text": [
      "[[6 8 2 2]\n",
      " [9 9 5 4]\n",
      " [1 9 2 5]\n",
      " [2 9 7 7]\n",
      " [1 9 7 4]]\n",
      "\n",
      "\n",
      "7\n",
      "\n",
      "\n",
      "[2 5 2 7 7]\n",
      "\n",
      "\n",
      "[1 9 2 5]\n"
     ]
    }
   ],
   "source": [
    "arr_2D = np.random.randint(10,size=(5,4))\n",
    "print(arr_2D)\n",
    "print(\"\\n\")\n",
    "# Getting single element by indexing\n",
    "print(arr_2D[3,2])\n",
    "# Getting a column by slicing/indexing\n",
    "print(\"\\n\")\n",
    "print(arr_2D[:,2])\n",
    "# Getting a row by slicing/indexing\n",
    "print(\"\\n\")\n",
    "print(arr_2D[2,:])"
   ]
  },
  {
   "cell_type": "code",
   "execution_count": 26,
   "metadata": {},
   "outputs": [
    {
     "name": "stdout",
     "output_type": "stream",
     "text": [
      "[[[6 8 3 3]\n",
      "  [0 6 0 7]\n",
      "  [5 7 9 3]]\n",
      "\n",
      " [[5 7 5 3]\n",
      "  [3 6 8 5]\n",
      "  [0 5 3 4]]]\n",
      "\n",
      "\n",
      "7\n"
     ]
    }
   ],
   "source": [
    "arr3D = np.random.randint(10,size=(2,3,4))\n",
    "print(arr3D)\n",
    "\n",
    "# Selecting a single component by indexing. Selecing 2nd plane, 1st row, 2nd column\n",
    "print(\"\\n\")\n",
    "print(arr3D[1,0,1])"
   ]
  },
  {
   "cell_type": "code",
   "execution_count": 28,
   "metadata": {},
   "outputs": [
    {
     "name": "stdout",
     "output_type": "stream",
     "text": [
      "\n",
      "\n",
      "[0 6 0 7]\n"
     ]
    }
   ],
   "source": [
    "# Selecting a single row - First plane, 2nd row\n",
    "print(\"\\n\")\n",
    "print(arr3D[0,1,:])"
   ]
  },
  {
   "cell_type": "code",
   "execution_count": 30,
   "metadata": {},
   "outputs": [
    {
     "name": "stdout",
     "output_type": "stream",
     "text": [
      "\n",
      "\n",
      "[5 8 3]\n"
     ]
    }
   ],
   "source": [
    "# Selecting a single column - 2nd plane, 3rd column\n",
    "print(\"\\n\")\n",
    "print(arr3D[1,:,2])"
   ]
  },
  {
   "cell_type": "code",
   "execution_count": 32,
   "metadata": {},
   "outputs": [
    {
     "name": "stdout",
     "output_type": "stream",
     "text": [
      "\n",
      "\n",
      "[[0 6 0 7]\n",
      " [3 6 8 5]]\n"
     ]
    }
   ],
   "source": [
    "# Selecing the middle horizontal plane\n",
    "print(\"\\n\")\n",
    "print(arr3D[:,1,:])"
   ]
  },
  {
   "cell_type": "code",
   "execution_count": 33,
   "metadata": {},
   "outputs": [
    {
     "data": {
      "text/plain": [
       "array([[3, 0, 9],\n",
       "       [5, 8, 3]])"
      ]
     },
     "execution_count": 33,
     "metadata": {},
     "output_type": "execute_result"
    }
   ],
   "source": [
    "# Selecting the third vertical plane\n",
    "arr3D[:,:,2]"
   ]
  },
  {
   "cell_type": "code",
   "execution_count": 37,
   "metadata": {},
   "outputs": [
    {
     "data": {
      "text/plain": [
       "array([[6, 7],\n",
       "       [6, 5]])"
      ]
     },
     "execution_count": 37,
     "metadata": {},
     "output_type": "execute_result"
    }
   ],
   "source": [
    "# Partial slice - 2nd vertical plane, middle and bottom row\n",
    "arr3D[:,1:,1]"
   ]
  },
  {
   "cell_type": "code",
   "execution_count": 39,
   "metadata": {},
   "outputs": [
    {
     "data": {
      "text/plain": [
       "array([[3],\n",
       "       [3]])"
      ]
     },
     "execution_count": 39,
     "metadata": {},
     "output_type": "execute_result"
    }
   ],
   "source": [
    "# Partial slice - 4th vertical plane, top row only\n",
    "arr3D[:,0:1,3]"
   ]
  },
  {
   "cell_type": "code",
   "execution_count": 41,
   "metadata": {},
   "outputs": [
    {
     "data": {
      "text/plain": [
       "array([7, 6])"
      ]
     },
     "execution_count": 41,
     "metadata": {},
     "output_type": "execute_result"
    }
   ],
   "source": [
    "# Partial slice - 2nd vertical plane, 2nd column, 1st 2 rows only \n",
    "arr3D[1,0:2,1]"
   ]
  },
  {
   "cell_type": "code",
   "execution_count": 45,
   "metadata": {},
   "outputs": [
    {
     "data": {
      "text/plain": [
       "array([[6, 8, 2, 2],\n",
       "       [9, 9, 5, 4],\n",
       "       [1, 9, 2, 5],\n",
       "       [2, 9, 7, 7],\n",
       "       [1, 9, 7, 4]])"
      ]
     },
     "execution_count": 45,
     "metadata": {},
     "output_type": "execute_result"
    }
   ],
   "source": [
    "arr_2D"
   ]
  },
  {
   "cell_type": "code",
   "execution_count": 49,
   "metadata": {},
   "outputs": [
    {
     "name": "stdout",
     "output_type": "stream",
     "text": [
      "1413142956592\n",
      "1413142956592\n"
     ]
    }
   ],
   "source": [
    "## Assignment of one array to another variable creates another view of the same array. They point to the same object.\n",
    "arr_2D1 = arr_2D\n",
    "print(id(arr_2D))\n",
    "print(id(arr2_2D1))"
   ]
  },
  {
   "cell_type": "code",
   "execution_count": 51,
   "metadata": {},
   "outputs": [
    {
     "name": "stdout",
     "output_type": "stream",
     "text": [
      "[[6 8 2 4]\n",
      " [9 9 5 4]\n",
      " [1 9 2 5]\n",
      " [2 9 7 7]\n",
      " [1 9 7 4]]\n"
     ]
    }
   ],
   "source": [
    "# Modification through the other variable reflects in the original array\n",
    "arr_2D1[0,3] = 4\n",
    "print(arr_2D)"
   ]
  },
  {
   "cell_type": "code",
   "execution_count": 53,
   "metadata": {
    "scrolled": true
   },
   "outputs": [
    {
     "data": {
      "text/plain": [
       "array([[6, 8, 2, 4],\n",
       "       [9, 9, 3, 4],\n",
       "       [1, 9, 2, 5],\n",
       "       [2, 9, 7, 7],\n",
       "       [1, 9, 7, 4]])"
      ]
     },
     "execution_count": 53,
     "metadata": {},
     "output_type": "execute_result"
    }
   ],
   "source": [
    "# Similarly, any slice of an array also is just a view of the same array. Any changes to the slice will reflect in the\n",
    "# original array\n",
    "arr_2D2 = arr_2D[1,:]\n",
    "arr_2D2[2] = 3\n",
    "arr_2D"
   ]
  },
  {
   "cell_type": "markdown",
   "metadata": {},
   "source": [
    "### Boolean Indexing\n",
    "\n",
    "It is a very common need to loop through an array and pick up elements that satisfy an if condition. This set of 'for' loop and 'if' statements are totally unnecessary for numpy arrays. As this entire process, of selecting elements from an array based on condition is handled by simply indexing the array itself with the condition, as simple as that. This awesome method is known as boolean indexing. Internally an array of booleans is passed as index."
   ]
  },
  {
   "cell_type": "code",
   "execution_count": 55,
   "metadata": {},
   "outputs": [
    {
     "name": "stdout",
     "output_type": "stream",
     "text": [
      "[8 6 0 6 8 8 7 0 2 6]\n"
     ]
    }
   ],
   "source": [
    "a1 = np.random.randint(10,size=(10))\n",
    "print(a1)"
   ]
  },
  {
   "cell_type": "code",
   "execution_count": 59,
   "metadata": {},
   "outputs": [
    {
     "name": "stdout",
     "output_type": "stream",
     "text": [
      "[ True False False False  True  True  True False False False]\n"
     ]
    }
   ],
   "source": [
    "# Any relational operation or a combination of relational operations with the array variable yields an array of booleans\n",
    "boolarr1 = a1>6\n",
    "print(boolarr1)"
   ]
  },
  {
   "cell_type": "code",
   "execution_count": 60,
   "metadata": {},
   "outputs": [
    {
     "data": {
      "text/plain": [
       "array([8, 8, 8, 7])"
      ]
     },
     "execution_count": 60,
     "metadata": {},
     "output_type": "execute_result"
    }
   ],
   "source": [
    "# The array of the booleans passed as index to original array will pick up only elements indedxed as True, elements indexed\n",
    "# as False will be removed\n",
    "a1[boolarr1]"
   ]
  },
  {
   "cell_type": "code",
   "execution_count": 63,
   "metadata": {},
   "outputs": [
    {
     "data": {
      "text/plain": [
       "array([8, 8, 8, 7])"
      ]
     },
     "execution_count": 63,
     "metadata": {},
     "output_type": "execute_result"
    }
   ],
   "source": [
    "# Since both the relational expression and the resultant boolean array are equivalent. We can directly use the \n",
    "# relational expression on the array itself to index the array on basis of the condition. This is very useful\n",
    "a1[a1>6]"
   ]
  },
  {
   "cell_type": "code",
   "execution_count": 66,
   "metadata": {},
   "outputs": [
    {
     "name": "stdout",
     "output_type": "stream",
     "text": [
      "[8 6 0 6 8 8 0 2 6]\n",
      "[7]\n"
     ]
    }
   ],
   "source": [
    "# Print Odd and Even numbers in the array in different arrays\n",
    "print(a1[a1%2==0])\n",
    "print(a1[a1%2!=0])"
   ]
  },
  {
   "cell_type": "code",
   "execution_count": 70,
   "metadata": {},
   "outputs": [
    {
     "name": "stdout",
     "output_type": "stream",
     "text": [
      "[6 6 7 6]\n",
      "[8 6 0 6 8 8 7 0 2 6]\n"
     ]
    }
   ],
   "source": [
    "# Complex conditions (Make sure you put each individual condition which are being and-ed/or-ed, in parentheses, or it\n",
    "# does not work)\n",
    "print(a1[(a1>2) & (a1<8)])\n",
    "print(a1[(a1>2) | (a1<8)])"
   ]
  }
 ],
 "metadata": {
  "kernelspec": {
   "display_name": "Python 3",
   "language": "python",
   "name": "python3"
  },
  "language_info": {
   "codemirror_mode": {
    "name": "ipython",
    "version": 3
   },
   "file_extension": ".py",
   "mimetype": "text/x-python",
   "name": "python",
   "nbconvert_exporter": "python",
   "pygments_lexer": "ipython3",
   "version": "3.7.6"
  }
 },
 "nbformat": 4,
 "nbformat_minor": 4
}
