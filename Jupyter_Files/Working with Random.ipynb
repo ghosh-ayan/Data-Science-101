{
 "cells": [
  {
   "cell_type": "markdown",
   "metadata": {},
   "source": [
    "### Simple random data:-\n",
    "- randint\n",
    "- rand\n",
    "- randn\n",
    "- choice\n",
    "\n",
    "### Permutation:-\n",
    "- shuffle\n",
    "- permutation"
   ]
  },
  {
   "cell_type": "markdown",
   "metadata": {},
   "source": [
    "#### What is a Random Number?\n",
    "Random number does NOT mean a different number every time. Random means something that can not be predicted logically.\n",
    "\n",
    "Pseudo Random and True Random.\n",
    "Computers work on programs, and programs are definitive set of instructions. So it means there must be some algorithm to generate a random number as well.\n",
    "\n",
    "If there is a program to generate random number it can be predicted, thus it is not truly random.\n",
    "\n",
    "Random numbers generated through a generation algorithm are called pseudo random.\n",
    "\n",
    "Can we make truly random numbers?\n",
    "\n",
    "Yes. In order to generate a truly random number on our computers we need to get the random data from some outside source. This outside source is generally our keystrokes, mouse movements, data on network etc.\n",
    "\n",
    "We do not need truly random numbers, unless its related to security (e.g. encryption keys) or the basis of application is the randomness (e.g. Digital roulette wheels).*"
   ]
  },
  {
   "cell_type": "markdown",
   "metadata": {},
   "source": [
    "#### Numpy documentation for random, both old and new conventions\n",
    "https://numpy.org/doc/stable/reference/random/legacy.html\n",
    "\n",
    "https://numpy.org/doc/stable/reference/random/generator.html\n",
    "#### Good tutorial for Numpy with examples from random\n",
    "https://www.w3schools.com/python/numpy_random.asp"
   ]
  },
  {
   "cell_type": "markdown",
   "metadata": {},
   "source": [
    "### LEGACY RandomState functions"
   ]
  },
  {
   "cell_type": "markdown",
   "metadata": {},
   "source": [
    "### **np.random.randint()**"
   ]
  },
  {
   "cell_type": "code",
   "execution_count": 72,
   "metadata": {},
   "outputs": [
    {
     "name": "stdout",
     "output_type": "stream",
     "text": [
      "-2\n",
      "-4\n",
      "-1\n",
      "-4\n",
      "-1\n",
      "-5\n",
      "1\n",
      "-2\n",
      "4\n",
      "-5\n"
     ]
    }
   ],
   "source": [
    "import numpy as np\n",
    "\n",
    "# Random integer within low to high inclusive, using np.random.randint(low[high,size,dtype])\n",
    "for _ in range(10):\n",
    "    x1 = np.random.randint(-5,5)\n",
    "    print(x1)"
   ]
  },
  {
   "cell_type": "code",
   "execution_count": 50,
   "metadata": {},
   "outputs": [
    {
     "name": "stdout",
     "output_type": "stream",
     "text": [
      "[19 99 63 40 33]\n",
      "\n",
      "\n",
      "[ 3 85 37 28 28]\n",
      "\n",
      "\n",
      "[92 64 55 58 34]\n",
      "\n",
      "\n",
      "[[28 34 46 30]\n",
      " [13 54 86 38]\n",
      " [76 19 61 91]]\n",
      "\n",
      "\n",
      "[[64 20 34 25]\n",
      " [73 17  8 43]\n",
      " [11 31 62 85]]\n",
      "\n",
      "\n",
      "[[88 42 74 31]\n",
      " [52 91 25 64]\n",
      " [ 4 16 69 54]]\n",
      "\n",
      "\n"
     ]
    }
   ],
   "source": [
    "# Creating n-D arrays of integers using np.random.randint(low[high,size,dtype])\n",
    "for _ in range(3):\n",
    "    random_int1D_array = np.random.randint(100, size = (5))\n",
    "    print(random_int1D_array)\n",
    "    print('\\n')\n",
    "for _ in range(3):\n",
    "    random_int2D_array = np.random.randint(100, size = (3,4))\n",
    "    print(random_int2D_array)\n",
    "    print('\\n')"
   ]
  },
  {
   "cell_type": "markdown",
   "metadata": {},
   "source": [
    "### **np.random.rand()**"
   ]
  },
  {
   "cell_type": "code",
   "execution_count": 51,
   "metadata": {},
   "outputs": [],
   "source": [
    "# np.random.rand([d0,d1,...,dn]), if no parameters, will generate a single float in the half open interval,\n",
    "# if d0,d1,..,dn specified, it will generate an ndarray of such floats with shape(d0,d1,..,dn)."
   ]
  },
  {
   "cell_type": "code",
   "execution_count": 52,
   "metadata": {},
   "outputs": [
    {
     "name": "stdout",
     "output_type": "stream",
     "text": [
      "0.2042690733910294\n",
      "0.19171996677144865\n",
      "0.5468848020688242\n",
      "0.9435535743623906\n",
      "0.5362678292149539\n",
      "0.6393898047436216\n",
      "0.8403758927500689\n",
      "0.5043999180380021\n",
      "0.8963577976698461\n",
      "0.5948255481621151\n"
     ]
    }
   ],
   "source": [
    "for _ in range(10):\n",
    "    x3 = np.random.rand()\n",
    "    print(x3)"
   ]
  },
  {
   "cell_type": "code",
   "execution_count": 53,
   "metadata": {},
   "outputs": [
    {
     "name": "stdout",
     "output_type": "stream",
     "text": [
      "[[0.11669046 0.27807312 0.89560653 0.88792637 0.630661   0.68285442]\n",
      " [0.36556084 0.64386753 0.19683801 0.98657446 0.6883504  0.46254804]\n",
      " [0.5971681  0.26039916 0.13110501 0.80110604 0.87028308 0.95875101]\n",
      " [0.02570375 0.49268248 0.84256139 0.81000367 0.64496504 0.50873716]\n",
      " [0.17899204 0.24025837 0.49668854 0.46390654 0.30342406 0.71783971]]\n",
      "\n",
      "\n",
      "[[0.88433741 0.60137395 0.52467752 0.40550279 0.43930413 0.38656008]\n",
      " [0.44146701 0.94276315 0.40768607 0.35463408 0.61623444 0.33187361]\n",
      " [0.26929356 0.93047269 0.76888178 0.73235713 0.87471064 0.34901799]\n",
      " [0.62555337 0.51118177 0.4803325  0.37832825 0.88532368 0.57703499]\n",
      " [0.06361989 0.81944679 0.55900598 0.78389665 0.05794224 0.36065775]]\n",
      "\n",
      "\n",
      "[[0.20370128 0.96882354 0.46010798 0.13956295 0.28977841 0.39142578]\n",
      " [0.55441519 0.85558669 0.36795048 0.16177254 0.88168013 0.82752531]\n",
      " [0.27930216 0.55225036 0.50946817 0.85562584 0.22106758 0.72093801]\n",
      " [0.11793384 0.88671257 0.5452486  0.98907213 0.67425469 0.40904566]\n",
      " [0.81607011 0.71590042 0.42109371 0.77517114 0.78927684 0.48322657]]\n",
      "\n",
      "\n"
     ]
    }
   ],
   "source": [
    "for _ in range(3):\n",
    "    x4 = np.random.rand(5,6)\n",
    "    print(x4)\n",
    "    print('\\n')"
   ]
  },
  {
   "cell_type": "markdown",
   "metadata": {},
   "source": [
    "### **np.random.randn()** "
   ]
  },
  {
   "cell_type": "code",
   "execution_count": 54,
   "metadata": {},
   "outputs": [
    {
     "name": "stdout",
     "output_type": "stream",
     "text": [
      "-0.7674759100524069\n",
      "-0.8257202697333841\n",
      "1.373476760451037\n",
      "-0.03226311150757659\n",
      "-0.5638355075983118\n",
      "-0.7398815186556331\n",
      "-0.3829204552216758\n",
      "0.8273699279973378\n",
      "0.8235869040318119\n",
      "-0.13343508171625668\n"
     ]
    }
   ],
   "source": [
    "for _ in range(10):\n",
    "    a_random_standard_normal_value = np.random.randn()\n",
    "    print(a_random_standard_normal_value)"
   ]
  },
  {
   "cell_type": "code",
   "execution_count": 55,
   "metadata": {},
   "outputs": [
    {
     "name": "stdout",
     "output_type": "stream",
     "text": [
      "[[-2.30309631 -0.40671201  1.10512902  0.34247142]\n",
      " [ 0.14230089 -0.9059688   0.12276971  0.03366308]\n",
      " [ 1.15115437  0.71069772  0.98744273 -0.20217924]]\n",
      "\n",
      "\n",
      "[[ 0.23990217 -0.31213345  1.76340122 -2.40216314]\n",
      " [-1.85363661 -0.80584375 -0.9006484  -0.59364415]\n",
      " [-2.38069535 -0.01797681 -1.20100575 -1.03649297]]\n",
      "\n",
      "\n",
      "[[ 0.95767828  0.27052346  0.49963807  0.05488375]\n",
      " [-0.02097469  0.21959607  0.61696486  0.22194785]\n",
      " [-0.78299867 -3.05110132  1.24381545  1.99001936]]\n",
      "\n",
      "\n"
     ]
    }
   ],
   "source": [
    "for _ in range(3):\n",
    "    arrayof_standard_normal_values = np.random.randn(3,4)\n",
    "    print(arrayof_standard_normal_values)\n",
    "    print('\\n')"
   ]
  },
  {
   "cell_type": "markdown",
   "metadata": {},
   "source": [
    "### **np.random.choice()** "
   ]
  },
  {
   "cell_type": "code",
   "execution_count": 56,
   "metadata": {},
   "outputs": [],
   "source": [
    "# np.random.choice(a, size=None, replace=True, p=None)¶\n",
    "# Takes a 1-D ndarray. Generates a random sample (single or as per shape) from that, with or without replacement \n",
    "# (default=with), can optionally give 1-D ndarray of separte probabilities for our set of possible values."
   ]
  },
  {
   "cell_type": "code",
   "execution_count": 57,
   "metadata": {},
   "outputs": [
    {
     "name": "stdout",
     "output_type": "stream",
     "text": [
      "Single Random Choice:-\n",
      "100\n",
      "30\n",
      "70\n",
      "Array Random Choice:-\n",
      "[[ 20  50  30  70  60 100  90  20]\n",
      " [ 70  50  40  80  20  60  80  60]\n",
      " [100  40  80 100 100  40  70  40]\n",
      " [ 40 100  40 100  80  80  60  70]\n",
      " [ 80 100  20  40  20  30 100  40]]\n",
      "\n",
      "\n",
      "[[ 30 100 100  50  80  80 100 100]\n",
      " [100  70  60  80  60  20  20  90]\n",
      " [ 30  60  70  20  80  80  40  40]\n",
      " [ 40  50  80  30  40  10  20  50]\n",
      " [ 70  30  30  60  80  10  80  70]]\n",
      "\n",
      "\n",
      "[[ 80  10  30  90  80  70  90  50]\n",
      " [ 90  90  50  40  10  60  20  80]\n",
      " [ 10  60  80  40  20  20  50 100]\n",
      " [ 90  80  60  70  50  90  40  70]\n",
      " [ 90  70  10  50 100  40  10  10]]\n",
      "\n",
      "\n",
      "Array Random Choice without replacement:-\n",
      "[[100  10  60  20  80]\n",
      " [ 50  90  40  30  70]]\n",
      "\n",
      "\n",
      "[[100  80  20  70  50]\n",
      " [ 90  60  30  10  40]]\n",
      "\n",
      "\n",
      "Array Random Choice with probability:-\n",
      "[[40 40 40 40 40 40 40 40]\n",
      " [40 40 40 50 40 40 40 50]\n",
      " [40 40 40 40 40 40 40 40]\n",
      " [40 40 40 40 40 40 40 40]\n",
      " [40 50 40 40 50 40 40 50]]\n",
      "\n",
      "\n",
      "[[40 40 40 40 40 50 40 40]\n",
      " [50 50 40 40 40 50 40 50]\n",
      " [40 40 40 40 40 40 40 40]\n",
      " [50 40 40 40 40 40 40 50]\n",
      " [40 40 40 40 50 40 40 50]]\n",
      "\n",
      "\n"
     ]
    }
   ],
   "source": [
    "possible_values = np.arange(10,101,10)\n",
    "#probability = np.array([0.1,0.1,0.1,0.1,0.1,0.1,0.1,0.1,0.1,0.1])\n",
    "probability = np.array([0.0,0.0,0.0,0.8,0.2,0.0,0.0,0.0,0.0,0.0])\n",
    "\n",
    "print(\"Single Random Choice:-\")\n",
    "for _ in range(3):\n",
    "    single_random_choice = np.random.choice(possible_values)\n",
    "    print(single_random_choice)\n",
    "print(\"Array Random Choice:-\")\n",
    "for _ in range(3):   \n",
    "    array_random_choice = np.random.choice(possible_values,(5,8))\n",
    "    print(array_random_choice)\n",
    "    print('\\n')\n",
    "print(\"Array Random Choice without replacement:-\")\n",
    "# For without replacement, care needs to be taken, that output array size should not exceed the number of possible values\n",
    "for _ in range(2):   \n",
    "    array_random_choice_without_replacement = np.random.choice(possible_values,(2,5),replace=False)\n",
    "    print(array_random_choice_without_replacement)\n",
    "    print('\\n')\n",
    "print(\"Array Random Choice with probability:-\")\n",
    "for _ in range(2):   \n",
    "    array_random_choice_with_probability = np.random.choice(possible_values,(5,8),replace=True,p=probability)\n",
    "    print(array_random_choice_with_probability)\n",
    "    print('\\n')"
   ]
  },
  {
   "cell_type": "markdown",
   "metadata": {},
   "source": [
    "Key inference is: When x is an array, both numpy.random.permutation(x) and numpy.random.shuffle(x) can permute the elements in x randomly along the first axis. numpy.random.permutation(x) actually returns a new variable and the original data is not changed. Where as numpy.random.shuffle(x) has changed original data and does not return a new variable.\n",
    "Also, permutation can take an int as a parameter and treats it as np.arange(x). Shuffle only takes array_like(array or list) as parameter."
   ]
  },
  {
   "cell_type": "markdown",
   "metadata": {},
   "source": [
    "### **np.random.shuffle()** \n",
    "np.random.shuffle(x)\n",
    "\n",
    "Parameters:-\n",
    "x - array_like (The array or list to be shuffled)\n",
    "\n",
    "Returns:-\n",
    "None"
   ]
  },
  {
   "cell_type": "markdown",
   "metadata": {},
   "source": [
    "### **np.random.permutation()** \n",
    "Parameters:-\n",
    "xint or array_like\n",
    "If x is an integer, randomly permute np.arange(x). If x is an array, make a copy and shuffle the elements randomly.\n",
    "\n",
    "Returns:-\n",
    "ndarray (Permuted sequence or array range)"
   ]
  },
  {
   "cell_type": "markdown",
   "metadata": {},
   "source": [
    "#### Difference between shuffle() and permuation()\n",
    "- When x is an array, both numpy.random.permutation(x) and numpy.random.shuffle(x) can permute the elements in x randomly along the first axis. numpy.random.permutation(x) actually returns a new variable and the original data is not changed. Where as numpy.random.shuffle(x) has changed original data and does not return a new variable.\n",
    "- Also, permutation can take an int as a parameter and treats it as np.arange(x). Shuffle only takes array_like(array or list) as parameter."
   ]
  },
  {
   "cell_type": "code",
   "execution_count": 61,
   "metadata": {},
   "outputs": [
    {
     "name": "stdout",
     "output_type": "stream",
     "text": [
      "Shuffling happens in place:-\n",
      "Base Array: [7 2 4 3 1 6 9 5 8 0]\n",
      "\n",
      "\n",
      "Base Array: [8 4 7 2 9 6 0 3 5 1]\n",
      "\n",
      "\n",
      "Base Array: [6 7 9 3 8 5 4 2 0 1]\n",
      "\n",
      "\n",
      "Permutation returns a copy of the permuted array:-\n",
      "Permuted Array: [8 2 0 5 3 1 7 9 6 4]\n",
      "Base Array: [0 1 2 3 4 5 6 7 8 9]\n",
      "\n",
      "\n",
      "Permuted Array: [3 2 9 8 5 0 4 1 6 7]\n",
      "Base Array: [0 1 2 3 4 5 6 7 8 9]\n",
      "\n",
      "\n",
      "Permuted Array: [2 0 1 6 9 7 3 5 8 4]\n",
      "Base Array: [0 1 2 3 4 5 6 7 8 9]\n",
      "\n",
      "\n"
     ]
    }
   ],
   "source": [
    "base_array_shuffle = np.arange(10)\n",
    "print(\"Shuffling happens in place:-\")\n",
    "for _ in range(3):\n",
    "    np.random.shuffle(base_array_shuffle)\n",
    "    print (\"Base Array: {}\".format(base_array_shuffle))\n",
    "    print('\\n')\n",
    "\n",
    "print(\"Permutation returns a copy of the permuted array:-\")\n",
    "\n",
    "base_array_permute = np.arange(10)\n",
    "for _ in range(3):\n",
    "    permute_array = np.random.permutation(base_array_permute)\n",
    "    print (\"Permuted Array: {}\".format(permute_array))\n",
    "    print (\"Base Array: {}\".format(base_array_permute))\n",
    "#    print(permute_array)\n",
    "    print('\\n')"
   ]
  },
  {
   "cell_type": "code",
   "execution_count": 67,
   "metadata": {},
   "outputs": [
    {
     "name": "stdout",
     "output_type": "stream",
     "text": [
      "Base Array Shuffle:\n",
      "[[[ 0  1  2]\n",
      "  [ 3  4  5]\n",
      "  [ 6  7  8]]\n",
      "\n",
      " [[ 9 10 11]\n",
      "  [12 13 14]\n",
      "  [15 16 17]]\n",
      "\n",
      " [[18 19 20]\n",
      "  [21 22 23]\n",
      "  [24 25 26]]\n",
      "\n",
      " [[27 28 29]\n",
      "  [30 31 32]\n",
      "  [33 34 35]]]\n",
      "Shuffling happens only along the first axis:-\n",
      "Base Array After shuffle: \n",
      "[[[18 19 20]\n",
      "  [21 22 23]\n",
      "  [24 25 26]]\n",
      "\n",
      " [[27 28 29]\n",
      "  [30 31 32]\n",
      "  [33 34 35]]\n",
      "\n",
      " [[ 0  1  2]\n",
      "  [ 3  4  5]\n",
      "  [ 6  7  8]]\n",
      "\n",
      " [[ 9 10 11]\n",
      "  [12 13 14]\n",
      "  [15 16 17]]]\n",
      "Base Array Permutation: \n",
      "[[[ 0  1  2]\n",
      "  [ 3  4  5]\n",
      "  [ 6  7  8]]\n",
      "\n",
      " [[ 9 10 11]\n",
      "  [12 13 14]\n",
      "  [15 16 17]]\n",
      "\n",
      " [[18 19 20]\n",
      "  [21 22 23]\n",
      "  [24 25 26]]\n",
      "\n",
      " [[27 28 29]\n",
      "  [30 31 32]\n",
      "  [33 34 35]]]\n",
      "Permutation also happens only along the first axis:-\n",
      "Permuted Array : \n",
      "[[[27 28 29]\n",
      "  [30 31 32]\n",
      "  [33 34 35]]\n",
      "\n",
      " [[ 9 10 11]\n",
      "  [12 13 14]\n",
      "  [15 16 17]]\n",
      "\n",
      " [[ 0  1  2]\n",
      "  [ 3  4  5]\n",
      "  [ 6  7  8]]\n",
      "\n",
      " [[18 19 20]\n",
      "  [21 22 23]\n",
      "  [24 25 26]]]\n"
     ]
    }
   ],
   "source": [
    "base_array_1= np.arange(36).reshape(4,3,3)\n",
    "print(\"Base Array Shuffle:\")\n",
    "print(base_array_1)\n",
    "print(\"Shuffling happens only along the first axis:-\")\n",
    "np.random.shuffle(base_array_1)\n",
    "print(\"Base Array After shuffle: \")\n",
    "print(base_array_1)\n",
    "\n",
    "base_array_2= np.arange(36).reshape(4,3,3)\n",
    "print(\"Base Array Permutation: \")\n",
    "print(base_array_2)\n",
    "print(\"Permutation also happens only along the first axis:-\")\n",
    "permute_array_2 = np.random.permutation(base_array_2)\n",
    "print(\"Permuted Array : \")\n",
    "print(permute_array_2)\n",
    "\n"
   ]
  },
  {
   "cell_type": "markdown",
   "metadata": {},
   "source": [
    "### GENERATOR functions and usage"
   ]
  }
 ],
 "metadata": {
  "kernelspec": {
   "display_name": "Python 3",
   "language": "python",
   "name": "python3"
  },
  "language_info": {
   "codemirror_mode": {
    "name": "ipython",
    "version": 3
   },
   "file_extension": ".py",
   "mimetype": "text/x-python",
   "name": "python",
   "nbconvert_exporter": "python",
   "pygments_lexer": "ipython3",
   "version": "3.7.6"
  }
 },
 "nbformat": 4,
 "nbformat_minor": 4
}
