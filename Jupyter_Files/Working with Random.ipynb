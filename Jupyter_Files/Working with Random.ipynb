{
 "cells": [
  {
   "cell_type": "markdown",
   "metadata": {},
   "source": [
    "#### What is a Random Number?\n",
    "Random number does NOT mean a different number every time. Random means something that can not be predicted logically.\n",
    "\n",
    "Pseudo Random and True Random.\n",
    "Computers work on programs, and programs are definitive set of instructions. So it means there must be some algorithm to generate a random number as well.\n",
    "\n",
    "If there is a program to generate random number it can be predicted, thus it is not truly random.\n",
    "\n",
    "Random numbers generated through a generation algorithm are called pseudo random.\n",
    "\n",
    "Can we make truly random numbers?\n",
    "\n",
    "Yes. In order to generate a truly random number on our computers we need to get the random data from some outside source. This outside source is generally our keystrokes, mouse movements, data on network etc.\n",
    "\n",
    "We do not need truly random numbers, unless its related to security (e.g. encryption keys) or the basis of application is the randomness (e.g. Digital roulette wheels).*"
   ]
  },
  {
   "cell_type": "markdown",
   "metadata": {},
   "source": [
    "#### Numpy documentation for random, both old and new conventions\n",
    "https://numpy.org/doc/stable/reference/random/legacy.html\n",
    "\n",
    "https://numpy.org/doc/stable/reference/random/generator.html\n",
    "#### Good tutorial for Numpy with examples from random\n",
    "https://www.w3schools.com/python/numpy_random.asp"
   ]
  },
  {
   "cell_type": "markdown",
   "metadata": {},
   "source": [
    "### LEGACY RandomState functions"
   ]
  },
  {
   "cell_type": "markdown",
   "metadata": {},
   "source": [
    "### <font color='red'> **randint()** </font> "
   ]
  },
  {
   "cell_type": "code",
   "execution_count": 29,
   "metadata": {},
   "outputs": [
    {
     "name": "stdout",
     "output_type": "stream",
     "text": [
      "96\n",
      "96\n",
      "98\n",
      "99\n",
      "99\n",
      "96\n",
      "96\n",
      "97\n",
      "96\n",
      "96\n"
     ]
    }
   ],
   "source": [
    "import numpy as np\n",
    "\n",
    "# Random integer within low to high inclusive, using np.random.randint(low[high,size,dtype])\n",
    "for _ in range(10):\n",
    "    x1 = np.random.randint(95,100)\n",
    "    print(x1)"
   ]
  },
  {
   "cell_type": "code",
   "execution_count": 26,
   "metadata": {},
   "outputs": [
    {
     "name": "stdout",
     "output_type": "stream",
     "text": [
      "[95 64 93 31 13]\n",
      "\n",
      "\n",
      "[88 82 48 70 91]\n",
      "\n",
      "\n",
      "[38 84 16 33 40]\n",
      "\n",
      "\n",
      "[[ 7 45 19 90]\n",
      " [64 81 44 85]\n",
      " [ 9 14 45 51]]\n",
      "\n",
      "\n",
      "[[25 86 35 69]\n",
      " [56 30 83 75]\n",
      " [54 23 67  5]]\n",
      "\n",
      "\n",
      "[[64 90 23 55]\n",
      " [36 90 96 29]\n",
      " [89  6 93 54]]\n",
      "\n",
      "\n"
     ]
    }
   ],
   "source": [
    "# Creating n-D arrays of integers using np.random.randint(low[high,size,dtype])\n",
    "for _ in range(3):\n",
    "    random_int1D_array = np.random.randint(100, size = (5))\n",
    "    print(random_int1D_array)\n",
    "    print('\\n')\n",
    "for _ in range(3):\n",
    "    random_int2D_array = np.random.randint(100, size = (3,4))\n",
    "    print(random_int2D_array)\n",
    "    print('\\n')"
   ]
  },
  {
   "cell_type": "markdown",
   "metadata": {},
   "source": [
    "### <font color='red'> **rand()** </font> "
   ]
  },
  {
   "cell_type": "code",
   "execution_count": null,
   "metadata": {},
   "outputs": [],
   "source": [
    "# np.random.rand([d0,d1,...,dn]), if no parameters, will generate a single float in the half open interval,\n",
    "# if d0,d1,..,dn specified, it will generate an ndarray of such floats with shape(d0,d1,..,dn)."
   ]
  },
  {
   "cell_type": "code",
   "execution_count": 22,
   "metadata": {},
   "outputs": [
    {
     "name": "stdout",
     "output_type": "stream",
     "text": [
      "0.3488058782111365\n",
      "0.37911430250263556\n",
      "0.6367077547938438\n",
      "0.9061411037215459\n",
      "0.18852474955738285\n",
      "0.732427118030772\n",
      "0.9078863838588698\n",
      "0.2166426802955107\n",
      "0.9075284125832975\n",
      "0.2535900754293492\n"
     ]
    }
   ],
   "source": [
    "for _ in range(10):\n",
    "    x3 = np.random.rand()\n",
    "    print(x3)"
   ]
  },
  {
   "cell_type": "code",
   "execution_count": 32,
   "metadata": {},
   "outputs": [
    {
     "name": "stdout",
     "output_type": "stream",
     "text": [
      "[[0.03638702 0.08121715 0.82820379 0.27093234 0.80700921 0.72322683]\n",
      " [0.69464488 0.82902349 0.02633425 0.40456162 0.21088666 0.82469934]\n",
      " [0.92298383 0.66822082 0.34784552 0.59860484 0.02973187 0.16421656]\n",
      " [0.53084648 0.95938207 0.83521029 0.27729013 0.41855912 0.0677496 ]\n",
      " [0.33285358 0.76298904 0.96835406 0.01688075 0.39521113 0.40687285]]\n",
      "\n",
      "\n",
      "[[0.86540151 0.15774289 0.12499859 0.23733526 0.69507807 0.48776115]\n",
      " [0.60693825 0.50365951 0.96239135 0.61643002 0.38665852 0.4925935 ]\n",
      " [0.78551036 0.03333771 0.95456843 0.79204872 0.10432664 0.96985669]\n",
      " [0.510031   0.84106314 0.05360815 0.80951438 0.49626096 0.9967051 ]\n",
      " [0.45677708 0.76805546 0.18286251 0.17239647 0.13646436 0.69860868]]\n",
      "\n",
      "\n",
      "[[0.33729466 0.88641975 0.19027243 0.14949044 0.20634675 0.22341712]\n",
      " [0.11522582 0.91778502 0.66748862 0.75953743 0.33729435 0.54416247]\n",
      " [0.0775967  0.95600865 0.05230388 0.72317477 0.85051987 0.62670991]\n",
      " [0.03691442 0.07373991 0.75401792 0.77866625 0.45448926 0.86746504]\n",
      " [0.44563963 0.83322695 0.32157526 0.03754814 0.84070424 0.19269168]]\n",
      "\n",
      "\n"
     ]
    }
   ],
   "source": [
    "for _ in range(3):\n",
    "    x4 = np.random.rand(5,6)\n",
    "    print(x4)\n",
    "    print('\\n')"
   ]
  },
  {
   "cell_type": "markdown",
   "metadata": {},
   "source": [
    "### <font color='red'> **randn()** </font> "
   ]
  },
  {
   "cell_type": "code",
   "execution_count": 33,
   "metadata": {},
   "outputs": [
    {
     "name": "stdout",
     "output_type": "stream",
     "text": [
      "-0.38258358246421625\n",
      "-1.52021896019382\n",
      "-0.09802980738084827\n",
      "0.021520920569859447\n",
      "-0.4480519289926931\n",
      "-0.741350608418689\n",
      "0.18787076089074992\n",
      "0.4663701566941468\n",
      "1.4508751675944118\n",
      "-0.817372794983149\n"
     ]
    }
   ],
   "source": [
    "for _ in range(10):\n",
    "    a_random_standard_normal_value = np.random.randn()\n",
    "    print(a_random_standard_normal_value)"
   ]
  },
  {
   "cell_type": "code",
   "execution_count": 37,
   "metadata": {},
   "outputs": [
    {
     "name": "stdout",
     "output_type": "stream",
     "text": [
      "[[ 1.024892   -0.05368681  0.37010922  0.5166434 ]\n",
      " [ 1.06792172  0.31379867 -0.63915898 -0.99608196]\n",
      " [-0.76680886 -1.65154156 -1.26481783 -0.5429189 ]]\n",
      "\n",
      "\n",
      "[[-0.94477457  0.3780253  -1.41585324 -0.15312357]\n",
      " [ 0.78532881  0.38297465 -2.53056678  0.60512365]\n",
      " [-1.35376082 -1.32043643 -1.12397922  0.59054506]]\n",
      "\n",
      "\n",
      "[[-0.63344261 -1.99415012  0.94144922  0.20580952]\n",
      " [-0.82482635 -1.16062559  0.11667148  0.52113236]\n",
      " [-1.66509162 -1.48123432 -1.60066084 -0.69633386]]\n",
      "\n",
      "\n"
     ]
    }
   ],
   "source": [
    "for _ in range(3):\n",
    "    arrayof_standard_normal_values = np.random.randn(3,4)\n",
    "    print(arrayof_standard_normal_values)\n",
    "    print('\\n')"
   ]
  },
  {
   "cell_type": "markdown",
   "metadata": {},
   "source": [
    "### <font color='red'> **choice()** </font> "
   ]
  },
  {
   "cell_type": "code",
   "execution_count": null,
   "metadata": {},
   "outputs": [],
   "source": [
    "# np.random.choice(a, size=None, replace=True, p=None)¶\n",
    "# Takes a 1-D ndarray. Generates a random sample (single or as per shape) from that, with or without replacement \n",
    "# (default=with), can optionally give 1-D ndarray of separte probabilities for our set of possible values."
   ]
  },
  {
   "cell_type": "code",
   "execution_count": 48,
   "metadata": {},
   "outputs": [
    {
     "name": "stdout",
     "output_type": "stream",
     "text": [
      "Single Random Choice:-\n",
      "30\n",
      "10\n",
      "20\n",
      "Array Random Choice:-\n",
      "[[ 30  70  90  40  10  80 100  60]\n",
      " [ 70  40  20  90  10  70  20  50]\n",
      " [ 80  30  70  60  70  20  70  60]\n",
      " [ 50  40  50  50  60  80  90  40]\n",
      " [ 50  40 100  70 100  90  70 100]]\n",
      "\n",
      "\n",
      "[[ 20  90 100  10  50  90 100  80]\n",
      " [ 50  80  80  60  70  90  10  50]\n",
      " [ 50  90  20  90  80  10  20  90]\n",
      " [ 10  40  70  20  10  20  90  90]\n",
      " [ 70 100  10  50  80  40  90  70]]\n",
      "\n",
      "\n",
      "[[ 40  50  50  50  90  80  50  60]\n",
      " [ 70  30  30  30  70 100  60  20]\n",
      " [ 60  70  30  50  40  20  40  30]\n",
      " [ 70  80  60  10  90  80 100  90]\n",
      " [ 10  90  60  90  20 100  20  70]]\n",
      "\n",
      "\n",
      "Array Random Choice without replacement:-\n",
      "[[ 50  20  40  70  10]\n",
      " [100  60  30  90  80]]\n",
      "\n",
      "\n",
      "[[ 30  80  10  90  50]\n",
      " [ 60 100  40  70  20]]\n",
      "\n",
      "\n",
      "Array Random Choice with probability:-\n",
      "[[50 40 40 40 40 40 50 50]\n",
      " [50 40 40 40 40 50 40 40]\n",
      " [40 50 50 50 40 40 50 40]\n",
      " [40 50 50 50 40 40 40 50]\n",
      " [40 40 40 40 40 40 40 40]]\n",
      "\n",
      "\n",
      "[[50 40 40 40 50 40 40 40]\n",
      " [40 40 40 40 40 40 40 40]\n",
      " [50 50 40 40 40 40 40 50]\n",
      " [40 50 40 40 40 40 40 40]\n",
      " [40 40 40 40 40 40 50 40]]\n",
      "\n",
      "\n"
     ]
    }
   ],
   "source": [
    "possible_values = np.arange(10,101,10)\n",
    "#probability = np.array([0.1,0.1,0.1,0.1,0.1,0.1,0.1,0.1,0.1,0.1])\n",
    "probability = np.array([0.0,0.0,0.0,0.8,0.2,0.0,0.0,0.0,0.0,0.0])\n",
    "\n",
    "print(\"Single Random Choice:-\")\n",
    "for _ in range(3):\n",
    "    single_random_choice = np.random.choice(possible_values)\n",
    "    print(single_random_choice)\n",
    "print(\"Array Random Choice:-\")\n",
    "for _ in range(3):   \n",
    "    array_random_choice = np.random.choice(possible_values,(5,8))\n",
    "    print(array_random_choice)\n",
    "    print('\\n')\n",
    "print(\"Array Random Choice without replacement:-\")\n",
    "# For without replacement, care needs to be taken, that output array size should not exceed the number of possible values\n",
    "for _ in range(2):   \n",
    "    array_random_choice_without_replacement = np.random.choice(possible_values,(2,5),replace=False)\n",
    "    print(array_random_choice_without_replacement)\n",
    "    print('\\n')\n",
    "print(\"Array Random Choice with probability:-\")\n",
    "for _ in range(2):   \n",
    "    array_random_choice_with_probability = np.random.choice(possible_values,(5,8),replace=True,p=probability)\n",
    "    print(array_random_choice_with_probability)\n",
    "    print('\\n')"
   ]
  },
  {
   "cell_type": "markdown",
   "metadata": {},
   "source": [
    "Key inference is: When x is an array, both numpy.random.permutation(x) and numpy.random.shuffle(x) can permute the elements in x randomly along the first axis. numpy.random.permutation(x) actually returns a new variable and the original data is not changed. Where as numpy.random.shuffle(x) has changed original data and does not return a new variable."
   ]
  },
  {
   "cell_type": "markdown",
   "metadata": {},
   "source": [
    "### <font color='red'> **shuffle()** </font> "
   ]
  },
  {
   "cell_type": "markdown",
   "metadata": {},
   "source": [
    "### <font color='red'> **permutation()** </font> "
   ]
  },
  {
   "cell_type": "markdown",
   "metadata": {},
   "source": []
  },
  {
   "cell_type": "markdown",
   "metadata": {},
   "source": [
    "### GENERATOR functions and usage"
   ]
  }
 ],
 "metadata": {
  "kernelspec": {
   "display_name": "Python 3",
   "language": "python",
   "name": "python3"
  },
  "language_info": {
   "codemirror_mode": {
    "name": "ipython",
    "version": 3
   },
   "file_extension": ".py",
   "mimetype": "text/x-python",
   "name": "python",
   "nbconvert_exporter": "python",
   "pygments_lexer": "ipython3",
   "version": "3.7.6"
  }
 },
 "nbformat": 4,
 "nbformat_minor": 4
}
