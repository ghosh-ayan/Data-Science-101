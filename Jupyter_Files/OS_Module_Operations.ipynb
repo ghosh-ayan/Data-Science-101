{
 "cells": [
  {
   "cell_type": "code",
   "execution_count": 1,
   "metadata": {},
   "outputs": [],
   "source": [
    "import os"
   ]
  },
  {
   "cell_type": "code",
   "execution_count": 8,
   "metadata": {},
   "outputs": [],
   "source": [
    "cwd = os.getcwd()"
   ]
  },
  {
   "cell_type": "code",
   "execution_count": 4,
   "metadata": {},
   "outputs": [],
   "source": [
    "x= os.listdir()"
   ]
  },
  {
   "cell_type": "code",
   "execution_count": 7,
   "metadata": {},
   "outputs": [
    {
     "data": {
      "text/plain": [
       "['.ipynb_checkpoints',\n",
       " 'data',\n",
       " 'EDA_Part1_Titanic.ipynb',\n",
       " 'Jupyter_Themes.ipynb',\n",
       " 'Matplotlib - 001 Trying stuff out.ipynb',\n",
       " 'Matplotlib - 002 Trying stuff out.ipynb',\n",
       " 'Matplotlib_rcParams.ipynb',\n",
       " 'Matplotlib_subplots.ipynb',\n",
       " 'NumPy - 101.ipynb',\n",
       " 'NumPy - Hackerrank Problems.ipynb',\n",
       " 'NumPy - Indexing and Slicing.ipynb',\n",
       " 'NumPy - Operations on Array - Statistics - Linear Algebra.ipynb',\n",
       " 'NumPy - Working with Random.ipynb',\n",
       " 'Pandas - Accessing DF Elements_loc_iloc_at_iat_xs.ipynb',\n",
       " 'Pandas - Playing around with a test Excel file.ipynb',\n",
       " 'Pandas - Playing Around with IMDb Dataset.ipynb',\n",
       " 'Pandas - Tidying Datasets and More.ipynb',\n",
       " 'sklearn_00_Getting Started.ipynb',\n",
       " 'sklearn_01_LogisticRegression_iris.ipynb',\n",
       " 'sklearn_02_SVC_iris.ipynb',\n",
       " 'sklearn_03_KNeighborsClassifier_iris.ipynb',\n",
       " 'sklearn_04_Synthetic Classification Data Generation.ipynb',\n",
       " 'Untitled.ipynb',\n",
       " 'Useful Resources.md']"
      ]
     },
     "execution_count": 7,
     "metadata": {},
     "output_type": "execute_result"
    }
   ],
   "source": [
    "os.chdir"
   ]
  },
  {
   "cell_type": "code",
   "execution_count": 16,
   "metadata": {},
   "outputs": [],
   "source": [
    "newdirs = [n for n in x if os.path.isdir(n)]"
   ]
  },
  {
   "cell_type": "code",
   "execution_count": 17,
   "metadata": {},
   "outputs": [
    {
     "data": {
      "text/plain": [
       "['.ipynb_checkpoints', 'data']"
      ]
     },
     "execution_count": 17,
     "metadata": {},
     "output_type": "execute_result"
    }
   ],
   "source": [
    "newdirs"
   ]
  },
  {
   "cell_type": "code",
   "execution_count": 18,
   "metadata": {},
   "outputs": [],
   "source": [
    "newdir = os.path.join(cwd, newdirs[1])"
   ]
  },
  {
   "cell_type": "code",
   "execution_count": 20,
   "metadata": {},
   "outputs": [],
   "source": [
    "os.chdir(newdir)"
   ]
  },
  {
   "cell_type": "code",
   "execution_count": 21,
   "metadata": {},
   "outputs": [
    {
     "data": {
      "text/plain": [
       "'C:\\\\Users\\\\aghos\\\\Desktop\\\\Orion\\\\GitRepo\\\\Data-Science-101\\\\Jupyter_Files\\\\data'"
      ]
     },
     "execution_count": 21,
     "metadata": {},
     "output_type": "execute_result"
    }
   ],
   "source": [
    "os.getcwd()"
   ]
  },
  {
   "cell_type": "code",
   "execution_count": 23,
   "metadata": {},
   "outputs": [],
   "source": [
    "os.mkdir('testdir')"
   ]
  },
  {
   "cell_type": "code",
   "execution_count": 25,
   "metadata": {},
   "outputs": [
    {
     "data": {
      "text/plain": [
       "'C:\\\\Users\\\\aghos\\\\Desktop\\\\Orion\\\\GitRepo\\\\Data-Science-101\\\\Jupyter_Files\\\\data\\\\testdir'"
      ]
     },
     "execution_count": 25,
     "metadata": {},
     "output_type": "execute_result"
    }
   ],
   "source": [
    "os.path.abspath('testdir')"
   ]
  },
  {
   "cell_type": "code",
   "execution_count": 26,
   "metadata": {},
   "outputs": [
    {
     "data": {
      "text/plain": [
       "['melt.xlsx', 'test.xlsx', 'testdir']"
      ]
     },
     "execution_count": 26,
     "metadata": {},
     "output_type": "execute_result"
    }
   ],
   "source": [
    "os.listdir()"
   ]
  },
  {
   "cell_type": "code",
   "execution_count": 27,
   "metadata": {},
   "outputs": [],
   "source": [
    "os.makedirs('subdir1/subdir2/subdir3')"
   ]
  },
  {
   "cell_type": "code",
   "execution_count": 28,
   "metadata": {},
   "outputs": [],
   "source": [
    "thisdir = os.getcwd()"
   ]
  },
  {
   "cell_type": "code",
   "execution_count": 30,
   "metadata": {},
   "outputs": [],
   "source": [
    "up1dir = os.path.split(thisdir)"
   ]
  },
  {
   "cell_type": "code",
   "execution_count": 33,
   "metadata": {},
   "outputs": [
    {
     "data": {
      "text/plain": [
       "('C:\\\\Users\\\\aghos\\\\Desktop\\\\Orion\\\\GitRepo\\\\Data-Science-101\\\\Jupyter_Files',\n",
       " 'data')"
      ]
     },
     "execution_count": 33,
     "metadata": {},
     "output_type": "execute_result"
    }
   ],
   "source": [
    "up1dir"
   ]
  },
  {
   "cell_type": "code",
   "execution_count": 34,
   "metadata": {},
   "outputs": [],
   "source": [
    "folder = up1dir[0]"
   ]
  },
  {
   "cell_type": "code",
   "execution_count": 35,
   "metadata": {},
   "outputs": [
    {
     "name": "stdout",
     "output_type": "stream",
     "text": [
      "folder C:\\Users\\aghos\\Desktop\\Orion\\GitRepo\\Data-Science-101\\Jupyter_Files\n"
     ]
    }
   ],
   "source": [
    "print('folder', folder)"
   ]
  },
  {
   "cell_type": "code",
   "execution_count": 36,
   "metadata": {},
   "outputs": [
    {
     "name": "stdout",
     "output_type": "stream",
     "text": [
      "-------------------------\n",
      "Folder :  C:\\Users\\aghos\\Desktop\\Orion\\GitRepo\\Data-Science-101\\Jupyter_Files\n",
      "Subfolders :  ['.ipynb_checkpoints', 'data']\n",
      "Files :  ['EDA_Part1_Titanic.ipynb', 'Jupyter_Themes.ipynb', 'Matplotlib - 001 Trying stuff out.ipynb', 'Matplotlib - 002 Trying stuff out.ipynb', 'Matplotlib_rcParams.ipynb', 'Matplotlib_subplots.ipynb', 'NumPy - 101.ipynb', 'NumPy - Hackerrank Problems.ipynb', 'NumPy - Indexing and Slicing.ipynb', 'NumPy - Operations on Array - Statistics - Linear Algebra.ipynb', 'NumPy - Working with Random.ipynb', 'OS_Module_Operations.ipynb', 'Pandas - Accessing DF Elements_loc_iloc_at_iat_xs.ipynb', 'Pandas - Playing around with a test Excel file.ipynb', 'Pandas - Playing Around with IMDb Dataset.ipynb', 'Pandas - Tidying Datasets and More.ipynb', 'sklearn_00_Getting Started.ipynb', 'sklearn_01_LogisticRegression_iris.ipynb', 'sklearn_02_SVC_iris.ipynb', 'sklearn_03_KNeighborsClassifier_iris.ipynb', 'sklearn_04_Synthetic Classification Data Generation.ipynb', 'Useful Resources.md']\n",
      "-------------------------\n",
      "-------------------------\n",
      "Folder :  C:\\Users\\aghos\\Desktop\\Orion\\GitRepo\\Data-Science-101\\Jupyter_Files\\.ipynb_checkpoints\n",
      "Subfolders :  []\n",
      "Files :  ['EDA_Part1_Titanic-checkpoint.ipynb', 'Jupyter_Themes-checkpoint.ipynb', 'Matplotlib - 001 Trying stuff out-checkpoint.ipynb', 'Matplotlib - 002 Trying stuff out-checkpoint.ipynb', 'Matplotlib_rcParams-checkpoint.ipynb', 'Matplotlib_subplots-checkpoint.ipynb', 'NumPy - 101-checkpoint.ipynb', 'NumPy - Hackerrank Problems-checkpoint.ipynb', 'NumPy - Indexing and Slicing-checkpoint.ipynb', 'NumPy - Operations on Array - Statistics - Linear Algebra-checkpoint.ipynb', 'NumPy - Working with Random-checkpoint.ipynb', 'Numpy_101-checkpoint.ipynb', 'OS_Module_Operations-checkpoint.ipynb', 'Pandas - Accessing DF Elements_loc_iloc_at_iat_xs-checkpoint.ipynb', 'Pandas - Playing around with a test Excel file-checkpoint.ipynb', 'Pandas - Playing Around with IMDb Dataset-checkpoint.ipynb', 'Pandas - Tidying Datasets and More-checkpoint.ipynb', 'sklearn_00_Getting Started-checkpoint.ipynb', 'sklearn_01_LogisticRegression_iris-checkpoint.ipynb', 'sklearn_02_SVC_iris-checkpoint.ipynb', 'sklearn_03_KNeighborsClassifier_iris-checkpoint.ipynb', 'sklearn_04_Synthetic Classification Data Generation-checkpoint.ipynb', 'Useful Resources-checkpoint.md', 'Working with Random-checkpoint.ipynb']\n",
      "-------------------------\n",
      "-------------------------\n",
      "Folder :  C:\\Users\\aghos\\Desktop\\Orion\\GitRepo\\Data-Science-101\\Jupyter_Files\\data\n",
      "Subfolders :  ['subdir1', 'testdir']\n",
      "Files :  ['melt.xlsx', 'test.xlsx']\n",
      "-------------------------\n",
      "-------------------------\n",
      "Folder :  C:\\Users\\aghos\\Desktop\\Orion\\GitRepo\\Data-Science-101\\Jupyter_Files\\data\\subdir1\n",
      "Subfolders :  ['subdir2']\n",
      "Files :  []\n",
      "-------------------------\n",
      "-------------------------\n",
      "Folder :  C:\\Users\\aghos\\Desktop\\Orion\\GitRepo\\Data-Science-101\\Jupyter_Files\\data\\subdir1\\subdir2\n",
      "Subfolders :  ['subdir3']\n",
      "Files :  []\n",
      "-------------------------\n",
      "-------------------------\n",
      "Folder :  C:\\Users\\aghos\\Desktop\\Orion\\GitRepo\\Data-Science-101\\Jupyter_Files\\data\\subdir1\\subdir2\\subdir3\n",
      "Subfolders :  []\n",
      "Files :  []\n",
      "-------------------------\n",
      "-------------------------\n",
      "Folder :  C:\\Users\\aghos\\Desktop\\Orion\\GitRepo\\Data-Science-101\\Jupyter_Files\\data\\testdir\n",
      "Subfolders :  []\n",
      "Files :  []\n",
      "-------------------------\n"
     ]
    }
   ],
   "source": [
    "for dirname, subdirnames, filenames in os.walk(folder):\n",
    "    print('-------------------------')\n",
    "    print('Folder : ', dirname)\n",
    "    print('Subfolders : ', subdirnames)\n",
    "    print('Files : ', filenames)\n",
    "    print('-------------------------')"
   ]
  }
 ],
 "metadata": {
  "kernelspec": {
   "display_name": "Python 3",
   "language": "python",
   "name": "python3"
  },
  "language_info": {
   "codemirror_mode": {
    "name": "ipython",
    "version": 3
   },
   "file_extension": ".py",
   "mimetype": "text/x-python",
   "name": "python",
   "nbconvert_exporter": "python",
   "pygments_lexer": "ipython3",
   "version": "3.8.5"
  }
 },
 "nbformat": 4,
 "nbformat_minor": 4
}
