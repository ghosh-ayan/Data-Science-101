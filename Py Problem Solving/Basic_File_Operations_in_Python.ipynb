{
 "cells": [
  {
   "cell_type": "markdown",
   "metadata": {},
   "source": [
    "### Basic File operation\n",
    "Create a File Descriptor (Resource descriptor) with an **open()** built in function.       \n",
    "\n",
    "- Need to pass the relative directory path to current source code directory along with an optional mode. \n",
    "- Mode is by default 'rt' (read text). \n",
    "- Alternatives to 'r' are 'w'(write/overwrite), 'a' (append, create if not existing and then write), '-x' (create, throw error if already present). \n",
    "- Alternative to 't' is 'b'(binary e.g. for images)"
   ]
  },
  {
   "cell_type": "code",
   "execution_count": 1,
   "metadata": {},
   "outputs": [],
   "source": [
    "f = open(\"Testfile_same directory.txt\") # Although mode is omitted, default \"rt\" is taken. Better to mention explicitly."
   ]
  },
  {
   "cell_type": "code",
   "execution_count": 2,
   "metadata": {
    "scrolled": true
   },
   "outputs": [
    {
     "data": {
      "text/plain": [
       "_io.TextIOWrapper"
      ]
     },
     "execution_count": 2,
     "metadata": {},
     "output_type": "execute_result"
    }
   ],
   "source": [
    "type(f)"
   ]
  },
  {
   "cell_type": "markdown",
   "metadata": {},
   "source": [
    "The File Descriptor can be looped over to get each line from the file. But this is not the most popular way to read lines from a file."
   ]
  },
  {
   "cell_type": "code",
   "execution_count": 3,
   "metadata": {
    "scrolled": true
   },
   "outputs": [
    {
     "name": "stdout",
     "output_type": "stream",
     "text": [
      "Hey, how are you? \n",
      "\n",
      "I am good!\n"
     ]
    }
   ],
   "source": [
    "for line in f:\n",
    "    print(line)"
   ]
  },
  {
   "cell_type": "markdown",
   "metadata": {},
   "source": [
    "Instead, we generally use the **read()** -- to read the entire contents of the file or **readline()** -- to read line by line"
   ]
  },
  {
   "cell_type": "code",
   "execution_count": 4,
   "metadata": {},
   "outputs": [
    {
     "data": {
      "text/plain": [
       "'Hey, how are you? \\nI am good!'"
      ]
     },
     "execution_count": 4,
     "metadata": {},
     "output_type": "execute_result"
    }
   ],
   "source": [
    "f.close()\n",
    "f = open(\"Testfile_same directory.txt\", \"r\")\n",
    "f.read()"
   ]
  },
  {
   "cell_type": "code",
   "execution_count": 5,
   "metadata": {},
   "outputs": [
    {
     "data": {
      "text/plain": [
       "'Hey, how are you? \\n'"
      ]
     },
     "execution_count": 5,
     "metadata": {},
     "output_type": "execute_result"
    }
   ],
   "source": [
    "f.close()\n",
    "f = open(\"Testfile_same directory.txt\", \"r\")\n",
    "f.readline()"
   ]
  },
  {
   "cell_type": "code",
   "execution_count": 6,
   "metadata": {},
   "outputs": [
    {
     "data": {
      "text/plain": [
       "'I am good!'"
      ]
     },
     "execution_count": 6,
     "metadata": {},
     "output_type": "execute_result"
    }
   ],
   "source": [
    "f.readline()"
   ]
  },
  {
   "cell_type": "code",
   "execution_count": 7,
   "metadata": {},
   "outputs": [],
   "source": [
    "f.close()"
   ]
  },
  {
   "cell_type": "markdown",
   "metadata": {},
   "source": [
    "To write, open with 'w' mode and then use **write(text)** method. This will overwrite existing data."
   ]
  },
  {
   "cell_type": "code",
   "execution_count": 8,
   "metadata": {},
   "outputs": [
    {
     "name": "stdout",
     "output_type": "stream",
     "text": [
      "New text overriding old text\n",
      "Second line of overriding text\n",
      "Third line of overriding text\n"
     ]
    }
   ],
   "source": [
    "text = \"New text overriding old text\\nSecond line of overriding text\\nThird line of overriding text\"\n",
    "\n",
    "fw = open(\"Testfile_same directory.txt\", \"w\")\n",
    "fw.write(text)\n",
    "fw.close()\n",
    "fw = open(\"Testfile_same directory.txt\", \"r\")\n",
    "print(fw.read())"
   ]
  },
  {
   "cell_type": "code",
   "execution_count": 9,
   "metadata": {},
   "outputs": [],
   "source": [
    "fw.close()"
   ]
  },
  {
   "cell_type": "markdown",
   "metadata": {},
   "source": [
    "To append, open with 'a' mode and then use **write(text)** method. Does not overwrite, instead appends to the end of the file."
   ]
  },
  {
   "cell_type": "code",
   "execution_count": 10,
   "metadata": {},
   "outputs": [
    {
     "name": "stdout",
     "output_type": "stream",
     "text": [
      "New text overriding old text\n",
      "Second line of overriding text\n",
      "Third line of overriding text\n",
      "Appended 1st line\n",
      "Appended 2nd line\n"
     ]
    }
   ],
   "source": [
    "textappend = \"\\nAppended 1st line\\nAppended 2nd line\"\n",
    "fa = open(\"Testfile_same directory.txt\", \"a\")\n",
    "fa.write(textappend)\n",
    "fa.close()\n",
    "fr = open(\"Testfile_same directory.txt\", \"r\")\n",
    "print(fr.read())"
   ]
  },
  {
   "cell_type": "code",
   "execution_count": 11,
   "metadata": {},
   "outputs": [],
   "source": [
    "fr.close()"
   ]
  },
  {
   "cell_type": "markdown",
   "metadata": {},
   "source": [
    "To delete a file, you need to import **os** module and use **os.remove()** function. It is customary to check whether the file exists or not, before deletion with **os.path.exists(filepath)** function"
   ]
  },
  {
   "cell_type": "code",
   "execution_count": 12,
   "metadata": {},
   "outputs": [],
   "source": [
    "import os\n",
    "if os.path.exists(\"Testfile_same directory.txt\"):\n",
    "    os.remove(\"Testfile_same directory.txt\")\n",
    "else:\n",
    "    print(\"File does not exist!\")"
   ]
  },
  {
   "cell_type": "markdown",
   "metadata": {},
   "source": [
    "To create a file, open with 'x' mode or 'a' mode. In either of these modes, you can write contents to the file."
   ]
  },
  {
   "cell_type": "code",
   "execution_count": 13,
   "metadata": {},
   "outputs": [
    {
     "name": "stdout",
     "output_type": "stream",
     "text": [
      "Hey, how are you? \n",
      "I am good!\n"
     ]
    }
   ],
   "source": [
    "fc = open(\"Testfile_same directory.txt\", 'a')\n",
    "fc.write(\"Hey, how are you? \\nI am good!\")\n",
    "fc.close()\n",
    "fr = open(\"Testfile_same directory.txt\", 'r')\n",
    "print(fr.read())"
   ]
  },
  {
   "cell_type": "code",
   "execution_count": 14,
   "metadata": {},
   "outputs": [],
   "source": [
    "fr.close()"
   ]
  },
  {
   "cell_type": "markdown",
   "metadata": {},
   "source": [
    "# Using Context Manager 'with' statement (Preferred method)\n",
    "\n",
    "Doing file operations in above ways may in some cases lead to unexpected behavior encountered due to exceptions and errors in file handling, leading to bugs in code. One way is to handle exceptions using **try(), finally()**. However, a more popular way is to use the **with()** statement that makes the code more readable, short and creates a context block where the program handles exceptions gracefully, also we do not need to explicitly close the file as the same is automatically done when the with-block is exited."
   ]
  },
  {
   "cell_type": "code",
   "execution_count": 15,
   "metadata": {},
   "outputs": [
    {
     "name": "stdout",
     "output_type": "stream",
     "text": [
      "File deleted!\n"
     ]
    }
   ],
   "source": [
    "if os.path.exists(\"New file.txt\"):\n",
    "    os.remove(\"New file.txt\")\n",
    "    print(\"File deleted!\")\n",
    "else:\n",
    "    print(\"Its ok! File does not exist. \")"
   ]
  },
  {
   "cell_type": "code",
   "execution_count": 16,
   "metadata": {},
   "outputs": [],
   "source": [
    "with open(\"New file.txt\", 'a') as fa:       # Could have used mode 'x' here as well.\n",
    "    fa.write(\"First line \\nSecond line \\nThird line\")\n",
    "    fa.write(\"\\nFourth line \\nFifth line\")"
   ]
  },
  {
   "cell_type": "code",
   "execution_count": 17,
   "metadata": {},
   "outputs": [
    {
     "name": "stdout",
     "output_type": "stream",
     "text": [
      "First line \n",
      "Second line \n",
      "Third line\n",
      "Fourth line \n",
      "Fifth line\n"
     ]
    }
   ],
   "source": [
    "with open(\"New file.txt\", 'r') as fr:\n",
    "    print(fr.read())"
   ]
  }
 ],
 "metadata": {
  "kernelspec": {
   "display_name": "Python 3",
   "language": "python",
   "name": "python3"
  },
  "language_info": {
   "codemirror_mode": {
    "name": "ipython",
    "version": 3
   },
   "file_extension": ".py",
   "mimetype": "text/x-python",
   "name": "python",
   "nbconvert_exporter": "python",
   "pygments_lexer": "ipython3",
   "version": "3.8.5"
  }
 },
 "nbformat": 4,
 "nbformat_minor": 4
}
